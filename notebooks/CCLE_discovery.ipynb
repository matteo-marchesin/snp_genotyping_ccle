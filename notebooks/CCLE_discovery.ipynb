{
 "cells": [
  {
   "cell_type": "code",
   "execution_count": 8,
   "id": "9685a9e8-9f9c-4e46-ab3a-14fe3bb00386",
   "metadata": {
    "id": "9685a9e8-9f9c-4e46-ab3a-14fe3bb00386",
    "outputId": "25f8e35f-3293-4993-974c-863a7979d88c"
   },
   "outputs": [],
   "source": [
    "###### general\n",
    "import pandas as pd\n",
    "import xml.etree.ElementTree as ET\n",
    "import numpy as np\n",
    "import time\n",
    "\n",
    "#data scrapping\n",
    "import pysradb as sra #pip install pysradb\n",
    "from Bio import Entrez\n",
    "\n",
    "# data visualization\n",
    "\n",
    "from  matplotlib import pyplot as plt\n",
    "from matplotlib import cm, colors\n"
   ]
  },
  {
   "cell_type": "markdown",
   "id": "9f2f8110-5bb5-4a7a-aa25-6c696bcbaa54",
   "metadata": {
    "id": "09bc2d86"
   },
   "source": [
    "# CCLE Project Sample DataFrame - Experiment Info and Accession IDs"
   ]
  },
  {
   "cell_type": "code",
   "execution_count": 9,
   "id": "8a4cd7e6",
   "metadata": {
    "id": "8a4cd7e6"
   },
   "outputs": [],
   "source": [
    "sra_db=sra.SRAweb()\n",
    "project_items= sra_db.search_sra(\"PRJNA523380\")"
   ]
  },
  {
   "cell_type": "code",
   "execution_count": 10,
   "id": "0b58c943",
   "metadata": {
    "id": "0b58c943"
   },
   "outputs": [],
   "source": [
    "db= pd.DataFrame(project_items)"
   ]
  },
  {
   "cell_type": "code",
   "execution_count": 11,
   "id": "1778f4f9",
   "metadata": {
    "id": "1778f4f9",
    "outputId": "3b8e9b61-6667-4b08-e90e-8bd660e10c82"
   },
   "outputs": [
    {
     "data": {
      "text/plain": [
       "array(['PRJNA523380'], dtype=object)"
      ]
     },
     "execution_count": 11,
     "metadata": {},
     "output_type": "execute_result"
    }
   ],
   "source": [
    "db.bioproject.unique()"
   ]
  },
  {
   "cell_type": "markdown",
   "id": "52a2be8d-1c7a-4359-a477-b3d6d4c68622",
   "metadata": {},
   "source": [
    "## Cleaning 001"
   ]
  },
  {
   "cell_type": "code",
   "execution_count": 12,
   "id": "c6cf5940",
   "metadata": {
    "id": "c6cf5940"
   },
   "outputs": [],
   "source": [
    "db_01= db.drop(['library_selection','library_layout','bioproject','sample_title','organism_taxid','organism_name','study_title','total_spots','total_size','run_total_spots','run_total_bases'],axis=1)"
   ]
  },
  {
   "cell_type": "markdown",
   "id": "f4e28edb-12d5-40dc-b700-8da66972e36c",
   "metadata": {},
   "source": [
    "## Discovery 001"
   ]
  },
  {
   "cell_type": "code",
   "execution_count": 8,
   "id": "3d71cc3b",
   "metadata": {
    "id": "3d71cc3b",
    "outputId": "67336c1b-cbd3-455c-9d94-5456adb30795",
    "scrolled": true
   },
   "outputs": [
    {
     "data": {
      "text/plain": [
       "array(['Illumina MiSeq', 'Illumina HiSeq 2500', 'Illumina HiSeq 2000'],\n",
       "      dtype=object)"
      ]
     },
     "execution_count": 8,
     "metadata": {},
     "output_type": "execute_result"
    }
   ],
   "source": [
    "pd.unique( db_01.instrument)"
   ]
  },
  {
   "cell_type": "code",
   "execution_count": 9,
   "id": "8b176340-8da0-4574-aab7-118d21ab32ae",
   "metadata": {},
   "outputs": [
    {
     "data": {
      "text/plain": [
       "(4550, 13)"
      ]
     },
     "execution_count": 9,
     "metadata": {},
     "output_type": "execute_result"
    }
   ],
   "source": [
    "db_01.shape"
   ]
  },
  {
   "cell_type": "code",
   "execution_count": 12,
   "id": "b2e003b1-798e-440e-ad33-5b1ea48bd166",
   "metadata": {},
   "outputs": [
    {
     "data": {
      "text/plain": [
       "library_strategy\n",
       "RNA-Seq             1019\n",
       "Targeted-Capture     976\n",
       "AMPLICON             972\n",
       "Bisulfite-Seq        928\n",
       "WGS                  329\n",
       "WXS                  326\n",
       "Name: count, dtype: int64"
      ]
     },
     "execution_count": 12,
     "metadata": {},
     "output_type": "execute_result"
    }
   ],
   "source": [
    "db_01['library_strategy'].value_counts()"
   ]
  },
  {
   "cell_type": "code",
   "execution_count": null,
   "id": "febad209",
   "metadata": {
    "id": "febad209",
    "outputId": "f29bfa8b-d097-477a-a61c-ed24620fee48"
   },
   "outputs": [
    {
     "data": {
      "text/plain": [
       "array(['AMPLICON', 'RNA-Seq', 'WXS', 'Bisulfite-Seq', 'WGS',\n",
       "       'Targeted-Capture'], dtype=object)"
      ]
     },
     "execution_count": 52,
     "metadata": {},
     "output_type": "execute_result"
    }
   ],
   "source": [
    "db_01.library_strategy.unique()"
   ]
  },
  {
   "cell_type": "code",
   "execution_count": null,
   "id": "68b4f4ff",
   "metadata": {
    "id": "68b4f4ff",
    "outputId": "58554b84-9ccf-493b-acd5-c1d69b27b752"
   },
   "outputs": [
    {
     "data": {
      "text/plain": [
       "(972, 13)"
      ]
     },
     "execution_count": 60,
     "metadata": {},
     "output_type": "execute_result"
    }
   ],
   "source": [
    "db_01[db_01['library_strategy']==\"AMPLICON\"].shape"
   ]
  },
  {
   "cell_type": "code",
   "execution_count": null,
   "id": "5929f10c",
   "metadata": {
    "id": "5929f10c",
    "outputId": "beb8c209-4a47-47fc-abd9-ba5c9adcb9f4"
   },
   "outputs": [
    {
     "data": {
      "text/plain": [
       "(1019, 13)"
      ]
     },
     "execution_count": 61,
     "metadata": {},
     "output_type": "execute_result"
    }
   ],
   "source": [
    "db_01[db_01['library_strategy']==\"RNA-Seq\"].shape"
   ]
  },
  {
   "cell_type": "code",
   "execution_count": null,
   "id": "6ab1025a",
   "metadata": {
    "id": "6ab1025a",
    "outputId": "7142f963-ce2b-43c1-d256-caeb50ab8270"
   },
   "outputs": [
    {
     "data": {
      "text/plain": [
       "(326, 13)"
      ]
     },
     "execution_count": 62,
     "metadata": {},
     "output_type": "execute_result"
    }
   ],
   "source": [
    "db_01[db_01['library_strategy']==\"WXS\"].shape"
   ]
  },
  {
   "cell_type": "code",
   "execution_count": null,
   "id": "21aa257b",
   "metadata": {
    "collapsed": true,
    "id": "21aa257b",
    "jupyter": {
     "outputs_hidden": true
    },
    "outputId": "06dafc2d-0d5f-44f3-c4ca-626553ce542c"
   },
   "outputs": [
    {
     "data": {
      "text/plain": [
       "(928, 13)"
      ]
     },
     "execution_count": 66,
     "metadata": {},
     "output_type": "execute_result"
    }
   ],
   "source": [
    "db_01[db_01['library_strategy']==\"Bisulfite-Seq\"].shape\n"
   ]
  },
  {
   "cell_type": "code",
   "execution_count": null,
   "id": "6aeb4602",
   "metadata": {
    "id": "6aeb4602",
    "outputId": "1fb7e723-c507-476d-c856-3de8012502c8"
   },
   "outputs": [
    {
     "data": {
      "text/plain": [
       "(329, 13)"
      ]
     },
     "execution_count": 67,
     "metadata": {},
     "output_type": "execute_result"
    }
   ],
   "source": [
    "db_01[db_01['library_strategy']==\"WGS\"].shape"
   ]
  },
  {
   "cell_type": "code",
   "execution_count": null,
   "id": "39270370",
   "metadata": {
    "id": "39270370",
    "outputId": "da218488-47a7-4a18-e125-4b82c0c7a709"
   },
   "outputs": [
    {
     "data": {
      "text/plain": [
       "(976, 13)"
      ]
     },
     "execution_count": 68,
     "metadata": {},
     "output_type": "execute_result"
    }
   ],
   "source": [
    "db_01[db_01['library_strategy']==\"Targeted-Capture\"].shape"
   ]
  },
  {
   "cell_type": "code",
   "execution_count": null,
   "id": "bfd32712",
   "metadata": {
    "id": "bfd32712",
    "outputId": "d31204cf-5e75-45ad-d965-8267b565cc3e"
   },
   "outputs": [
    {
     "data": {
      "text/plain": [
       "(1065,)"
      ]
     },
     "execution_count": 6,
     "metadata": {},
     "output_type": "execute_result"
    }
   ],
   "source": [
    "db_01.biosample.unique().shape"
   ]
  },
  {
   "cell_type": "code",
   "execution_count": 18,
   "id": "dfd65453-5f3b-40c1-84a8-075335de8ab6",
   "metadata": {},
   "outputs": [
    {
     "data": {
      "text/plain": [
       "study_accession\n",
       "SRP186687    4550\n",
       "Name: count, dtype: int64"
      ]
     },
     "execution_count": 18,
     "metadata": {},
     "output_type": "execute_result"
    }
   ],
   "source": [
    "db_01['study_accession'].value_counts()"
   ]
  },
  {
   "cell_type": "code",
   "execution_count": 17,
   "id": "a43d346e-0e9f-49a3-a23f-5f3212517129",
   "metadata": {},
   "outputs": [
    {
     "data": {
      "text/plain": [
       "4550"
      ]
     },
     "execution_count": 17,
     "metadata": {},
     "output_type": "execute_result"
    }
   ],
   "source": [
    "len(pd.unique(db_01['experiment_accession']))"
   ]
  },
  {
   "cell_type": "code",
   "execution_count": 15,
   "id": "86816aee-6dcf-432a-98e4-c7b49584175a",
   "metadata": {},
   "outputs": [
    {
     "data": {
      "text/html": [
       "<div>\n",
       "<style scoped>\n",
       "    .dataframe tbody tr th:only-of-type {\n",
       "        vertical-align: middle;\n",
       "    }\n",
       "\n",
       "    .dataframe tbody tr th {\n",
       "        vertical-align: top;\n",
       "    }\n",
       "\n",
       "    .dataframe thead th {\n",
       "        text-align: right;\n",
       "    }\n",
       "</style>\n",
       "<table border=\"1\" class=\"dataframe\">\n",
       "  <thead>\n",
       "    <tr style=\"text-align: right;\">\n",
       "      <th></th>\n",
       "      <th>study_accession</th>\n",
       "      <th>experiment_accession</th>\n",
       "      <th>experiment_title</th>\n",
       "      <th>experiment_desc</th>\n",
       "      <th>library_name</th>\n",
       "      <th>library_strategy</th>\n",
       "      <th>library_source</th>\n",
       "      <th>sample_accession</th>\n",
       "      <th>biosample</th>\n",
       "      <th>instrument</th>\n",
       "      <th>instrument_model</th>\n",
       "      <th>instrument_model_desc</th>\n",
       "      <th>run_accession</th>\n",
       "    </tr>\n",
       "  </thead>\n",
       "  <tbody>\n",
       "    <tr>\n",
       "      <th>4360</th>\n",
       "      <td>SRP186687</td>\n",
       "      <td>SRX5414209</td>\n",
       "      <td>TERTp of HCC366_LUNG</td>\n",
       "      <td>TERTp of HCC366_LUNG</td>\n",
       "      <td>TERTp-HCC366_LUNG</td>\n",
       "      <td>AMPLICON</td>\n",
       "      <td>GENOMIC</td>\n",
       "      <td>SRS4395289</td>\n",
       "      <td>SAMN10988035</td>\n",
       "      <td>Illumina MiSeq</td>\n",
       "      <td>Illumina MiSeq</td>\n",
       "      <td>ILLUMINA</td>\n",
       "      <td>SRR8615031</td>\n",
       "    </tr>\n",
       "    <tr>\n",
       "      <th>4274</th>\n",
       "      <td>SRP186687</td>\n",
       "      <td>SRX5414296</td>\n",
       "      <td>RNAseq of HCC366_LUNG</td>\n",
       "      <td>RNAseq of HCC366_LUNG</td>\n",
       "      <td>RNASeq-HCC366_LUNG</td>\n",
       "      <td>RNA-Seq</td>\n",
       "      <td>TRANSCRIPTOMIC</td>\n",
       "      <td>SRS4395289</td>\n",
       "      <td>SAMN10988035</td>\n",
       "      <td>Illumina HiSeq 2500</td>\n",
       "      <td>Illumina HiSeq 2500</td>\n",
       "      <td>ILLUMINA</td>\n",
       "      <td>SRR8615457</td>\n",
       "    </tr>\n",
       "    <tr>\n",
       "      <th>3169</th>\n",
       "      <td>SRP186687</td>\n",
       "      <td>SRX5417973</td>\n",
       "      <td>WXS of HCC366_LUNG</td>\n",
       "      <td>WXS of HCC366_LUNG</td>\n",
       "      <td>WXS-HCC366_LUNG</td>\n",
       "      <td>WXS</td>\n",
       "      <td>GENOMIC</td>\n",
       "      <td>SRS4395289</td>\n",
       "      <td>SAMN10988035</td>\n",
       "      <td>Illumina HiSeq 2000</td>\n",
       "      <td>Illumina HiSeq 2000</td>\n",
       "      <td>ILLUMINA</td>\n",
       "      <td>SRR8619114</td>\n",
       "    </tr>\n",
       "    <tr>\n",
       "      <th>2238</th>\n",
       "      <td>SRP186687</td>\n",
       "      <td>SRX5432664</td>\n",
       "      <td>RRBS of HCC366_LUNG</td>\n",
       "      <td>RRBS of HCC366_LUNG</td>\n",
       "      <td>RRBS-HCC366_LUNG</td>\n",
       "      <td>Bisulfite-Seq</td>\n",
       "      <td>GENOMIC</td>\n",
       "      <td>SRS4395289</td>\n",
       "      <td>SAMN10988035</td>\n",
       "      <td>Illumina HiSeq 2000</td>\n",
       "      <td>Illumina HiSeq 2000</td>\n",
       "      <td>ILLUMINA</td>\n",
       "      <td>SRR8634007</td>\n",
       "    </tr>\n",
       "    <tr>\n",
       "      <th>1846</th>\n",
       "      <td>SRP186687</td>\n",
       "      <td>SRX5434272</td>\n",
       "      <td>RainDance of HCC366_LUNG</td>\n",
       "      <td>RainDance of HCC366_LUNG</td>\n",
       "      <td>RainDance-HCC366_LUNG</td>\n",
       "      <td>AMPLICON</td>\n",
       "      <td>GENOMIC</td>\n",
       "      <td>SRS4395289</td>\n",
       "      <td>SAMN10988035</td>\n",
       "      <td>Illumina HiSeq 2000</td>\n",
       "      <td>Illumina HiSeq 2000</td>\n",
       "      <td>ILLUMINA</td>\n",
       "      <td>SRR8635450</td>\n",
       "    </tr>\n",
       "    <tr>\n",
       "      <th>301</th>\n",
       "      <td>SRP186687</td>\n",
       "      <td>SRX5455557</td>\n",
       "      <td>HC of HCC366_LUNG</td>\n",
       "      <td>HC of HCC366_LUNG</td>\n",
       "      <td>HC-HCC366_LUNG</td>\n",
       "      <td>Targeted-Capture</td>\n",
       "      <td>GENOMIC</td>\n",
       "      <td>SRS4395289</td>\n",
       "      <td>SAMN10988035</td>\n",
       "      <td>Illumina HiSeq 2000</td>\n",
       "      <td>Illumina HiSeq 2000</td>\n",
       "      <td>ILLUMINA</td>\n",
       "      <td>SRR8657908</td>\n",
       "    </tr>\n",
       "  </tbody>\n",
       "</table>\n",
       "</div>"
      ],
      "text/plain": [
       "     study_accession experiment_accession          experiment_title  \\\n",
       "4360       SRP186687           SRX5414209      TERTp of HCC366_LUNG   \n",
       "4274       SRP186687           SRX5414296     RNAseq of HCC366_LUNG   \n",
       "3169       SRP186687           SRX5417973        WXS of HCC366_LUNG   \n",
       "2238       SRP186687           SRX5432664       RRBS of HCC366_LUNG   \n",
       "1846       SRP186687           SRX5434272  RainDance of HCC366_LUNG   \n",
       "301        SRP186687           SRX5455557         HC of HCC366_LUNG   \n",
       "\n",
       "               experiment_desc           library_name  library_strategy  \\\n",
       "4360      TERTp of HCC366_LUNG      TERTp-HCC366_LUNG          AMPLICON   \n",
       "4274     RNAseq of HCC366_LUNG     RNASeq-HCC366_LUNG           RNA-Seq   \n",
       "3169        WXS of HCC366_LUNG        WXS-HCC366_LUNG               WXS   \n",
       "2238       RRBS of HCC366_LUNG       RRBS-HCC366_LUNG     Bisulfite-Seq   \n",
       "1846  RainDance of HCC366_LUNG  RainDance-HCC366_LUNG          AMPLICON   \n",
       "301          HC of HCC366_LUNG         HC-HCC366_LUNG  Targeted-Capture   \n",
       "\n",
       "      library_source sample_accession     biosample           instrument  \\\n",
       "4360         GENOMIC       SRS4395289  SAMN10988035       Illumina MiSeq   \n",
       "4274  TRANSCRIPTOMIC       SRS4395289  SAMN10988035  Illumina HiSeq 2500   \n",
       "3169         GENOMIC       SRS4395289  SAMN10988035  Illumina HiSeq 2000   \n",
       "2238         GENOMIC       SRS4395289  SAMN10988035  Illumina HiSeq 2000   \n",
       "1846         GENOMIC       SRS4395289  SAMN10988035  Illumina HiSeq 2000   \n",
       "301          GENOMIC       SRS4395289  SAMN10988035  Illumina HiSeq 2000   \n",
       "\n",
       "         instrument_model instrument_model_desc run_accession  \n",
       "4360       Illumina MiSeq              ILLUMINA    SRR8615031  \n",
       "4274  Illumina HiSeq 2500              ILLUMINA    SRR8615457  \n",
       "3169  Illumina HiSeq 2000              ILLUMINA    SRR8619114  \n",
       "2238  Illumina HiSeq 2000              ILLUMINA    SRR8634007  \n",
       "1846  Illumina HiSeq 2000              ILLUMINA    SRR8635450  \n",
       "301   Illumina HiSeq 2000              ILLUMINA    SRR8657908  "
      ]
     },
     "execution_count": 15,
     "metadata": {},
     "output_type": "execute_result"
    }
   ],
   "source": [
    "db_01[db_01['biosample']==\"SAMN10988035\"]"
   ]
  },
  {
   "cell_type": "markdown",
   "id": "a90b0932-c773-4d0b-914e-92728148dc8b",
   "metadata": {
    "id": "a90b0932-c773-4d0b-914e-92728148dc8b"
   },
   "source": [
    "# Sample DataFrame with Entrez info- info about disease"
   ]
  },
  {
   "cell_type": "markdown",
   "id": "f7cd591e-4fef-4e4d-a2e0-e7d8f66ea0a3",
   "metadata": {},
   "source": [
    "## Once and for all, SKIP ME and  just load the csv file on the next step  "
   ]
  },
  {
   "cell_type": "code",
   "execution_count": null,
   "id": "6e2e3f79",
   "metadata": {
    "id": "6e2e3f79"
   },
   "outputs": [],
   "source": [
    "db_02=db_01.copy()"
   ]
  },
  {
   "cell_type": "markdown",
   "id": "5ab1b557-c3bc-4015-ad32-ca40f2693aa5",
   "metadata": {
    "jp-MarkdownHeadingCollapsed": true
   },
   "source": [
    "## Function Definition"
   ]
  },
  {
   "cell_type": "code",
   "execution_count": 61,
   "id": "5ac3b43f",
   "metadata": {
    "collapsed": true,
    "id": "5ac3b43f",
    "jupyter": {
     "outputs_hidden": true
    },
    "outputId": "03850003-2cda-4aa0-f058-15144892ad76"
   },
   "outputs": [
    {
     "name": "stdout",
     "output_type": "stream",
     "text": [
      "Elementi Dict: 19 ,22:37:24\n",
      "Elementi Dict: 38 ,22:38:05\n",
      "Elementi Dict: 57 ,22:38:47\n",
      "Elementi Dict: 76 ,22:39:29\n",
      "Elementi Dict: 95 ,22:40:15\n",
      "Elementi Dict: 114 ,22:40:57\n",
      "Elementi Dict: 133 ,22:41:39\n",
      "Elementi Dict: 151 ,22:44:30\n",
      "Elementi Dict: 170 ,22:45:19\n",
      "Elementi Dict: 189 ,22:46:03\n",
      "Elementi Dict: 208 ,22:46:45\n",
      "Elementi Dict: 227 ,22:47:26\n",
      "Elementi Dict: 246 ,22:48:09\n",
      "Elementi Dict: 264 ,22:48:51\n",
      "Elementi Dict: 283 ,22:49:34\n",
      "Elementi Dict: 302 ,22:50:18\n",
      "Elementi Dict: 321 ,22:51:01\n",
      "Elementi Dict: 340 ,22:51:42\n",
      "Elementi Dict: 359 ,22:53:10\n",
      "Elementi Dict: 378 ,22:53:54\n",
      "Elementi Dict: 397 ,22:54:37\n",
      "Elementi Dict: 415 ,22:55:23\n",
      "Elementi Dict: 434 ,22:56:06\n",
      "Elementi Dict: 453 ,22:56:54\n",
      "Elementi Dict: 472 ,22:57:38\n",
      "Elementi Dict: 491 ,22:58:21\n",
      "Elementi Dict: 510 ,22:59:02\n",
      "Elementi Dict: 529 ,22:59:45\n",
      "Elementi Dict: 548 ,23:00:42\n",
      "Elementi Dict: 567 ,23:02:42\n",
      "Elementi Dict: 586 ,23:03:24\n",
      "Elementi Dict: 605 ,23:04:10\n",
      "Elementi Dict: 624 ,23:04:52\n",
      "Elementi Dict: 643 ,23:05:34\n",
      "Elementi Dict: 662 ,23:06:15\n",
      "Elementi Dict: 681 ,23:07:00\n",
      "Elementi Dict: 700 ,23:07:41\n",
      "Elementi Dict: 719 ,23:08:23\n",
      "Elementi Dict: 738 ,23:09:07\n",
      "Elementi Dict: 757 ,23:09:57\n",
      "Elementi Dict: 776 ,23:10:48\n",
      "Elementi Dict: 795 ,23:11:40\n",
      "Elementi Dict: 814 ,23:12:25\n",
      "Elementi Dict: 833 ,23:13:05\n",
      "Elementi Dict: 852 ,23:13:46\n",
      "Elementi Dict: 871 ,23:14:33\n",
      "Elementi Dict: 890 ,23:15:13\n",
      "Elementi Dict: 909 ,23:15:55\n",
      "Elementi Dict: 928 ,23:16:35\n",
      "Elementi Dict: 947 ,23:17:16\n",
      "Elementi Dict: 966 ,23:17:59\n",
      "Elementi Dict: 985 ,23:18:40\n",
      "Elementi Dict: 1004 ,23:19:21\n",
      "Elementi Dict: 1023 ,23:20:01\n",
      "Elementi Dict: 1042 ,23:20:41\n",
      "Elementi Dict: 1061 ,23:21:21\n"
     ]
    },
    {
     "ename": "NameError",
     "evalue": "name 'dict_sampleName' is not defined",
     "output_type": "error",
     "traceback": [
      "\u001b[0;31m---------------------------------------------------------------------------\u001b[0m",
      "\u001b[0;31mNameError\u001b[0m                                 Traceback (most recent call last)",
      "Cell \u001b[0;32mIn[61], line 75\u001b[0m\n\u001b[1;32m     71\u001b[0m         time\u001b[38;5;241m.\u001b[39msleep(\u001b[38;5;241m1\u001b[39m)\n\u001b[1;32m     73\u001b[0m     \u001b[38;5;66;03m#print(get_sampleName(item))\u001b[39;00m\n\u001b[0;32m---> 75\u001b[0m np\u001b[38;5;241m.\u001b[39msave(\u001b[38;5;124m\"\u001b[39m\u001b[38;5;124mdict_biosample2.npy\u001b[39m\u001b[38;5;124m\"\u001b[39m,\u001b[43mdict_sampleName\u001b[49m)\n",
      "\u001b[0;31mNameError\u001b[0m: name 'dict_sampleName' is not defined"
     ]
    }
   ],
   "source": [
    "#dict_sampleName= {}\n",
    "dict_sampleName2= {}\n",
    "Entrez.email='@gmail.com'#'insert your email adressses\n",
    "# I used multiple email accounts to trick the requests limit\n",
    "def get_sampleName(str_id):\n",
    "    str_out=\"\"\n",
    "    try:\n",
    "        search_result= Entrez.efetch(db= \"biosample\", id=str_id)\n",
    "       # print(id)\n",
    "        tree=ET.parse(search_result)\n",
    "        root=tree.getroot()\n",
    "        search_result.close()\n",
    "    except:\n",
    "        return \"\"\n",
    "\n",
    "    str_sampleName=\"\"\n",
    "    str_tissue=\"\"\n",
    "    str_cell_line=\"\"\n",
    "    str_disease=\"\"\n",
    "    str_ethnicity=\"\"\n",
    "\n",
    "    for item in root.iter():\n",
    "       # print(item.tag)\n",
    "        if(item.tag==\"Id\"):\n",
    "           # print(item.text)\n",
    "           # print(len(item.attrib))\n",
    "            if (\"db_label\" in item.attrib):\n",
    "                str_sampleName=item.text\n",
    "                #break\n",
    "        if (item.tag==\"Attribute\"):\n",
    "            #print()\n",
    "            if (\"tissue\" in item.attrib.values()):\n",
    "                str_tissue=item.text\n",
    "            elif (\"cell_line\" in item.attrib.values()):\n",
    "                str_cell_line=item.text\n",
    "            elif (\"disease\" in item.attrib.values()):\n",
    "                str_disease=item.text\n",
    "            elif (\"ethnicity\"in item.attrib.values()):\n",
    "                str_ethnicity=item.text\n",
    "            \n",
    "\n",
    "\n",
    "    str_out= str_sampleName+\",\"+str_tissue+\",\"+str_cell_line+\",\"+str_disease+\",\"+str_ethnicity\n",
    "\n",
    "    return str_out #root[0][1][0].text\n",
    "\n",
    "\n",
    "i=1\n",
    "str_tmp=\"\"\n",
    "\n",
    "for item in db_01.biosample.unique():\n",
    "    str_tmp=\"\"\n",
    "    if i%20==0 :\n",
    "        current_time = time.strftime(\"%H:%M:%S\", time.localtime())\n",
    "        print(\"Elementi Dict: \"+str(len(dict_sampleName2))+\" ,\"+current_time)\n",
    "        i=1\n",
    "        Entrez.email='@gmail.com'\n",
    "        time.sleep(10)\n",
    "\n",
    "    elif i%15==0:\n",
    "        Entrez.email='@gmail.com'\n",
    "    elif i%10==0:\n",
    "        Entrez.email='@gmail.com'\n",
    "    elif i%5==0:\n",
    "        Entrez.email='@gmail.com'\n",
    "\n",
    "    if not(item in dict_sampleName2.keys()):\n",
    "        str_tmp=get_sampleName(item)\n",
    "        if str_tmp!=\"\":\n",
    "            dict_sampleName2[item]=str_tmp\n",
    "        i+=1\n",
    "        time.sleep(1)\n",
    "\n",
    "    #print(get_sampleName(item))\n",
    "\n",
    "np.save(\"dict_biosample2.npy\",dict_sampleName)"
   ]
  },
  {
   "cell_type": "markdown",
   "id": "d4aafb87-e41b-4ae6-9974-c61f7aba30c4",
   "metadata": {
    "jp-MarkdownHeadingCollapsed": true
   },
   "source": [
    "## Cleaning 002"
   ]
  },
  {
   "cell_type": "code",
   "execution_count": 62,
   "id": "07fdf12f",
   "metadata": {
    "id": "07fdf12f"
   },
   "outputs": [],
   "source": [
    "serie_test= pd.Series(dict_sampleName2)"
   ]
  },
  {
   "cell_type": "code",
   "execution_count": 63,
   "id": "14b328d1",
   "metadata": {
    "id": "14b328d1"
   },
   "outputs": [],
   "source": [
    "table_sampleName=serie_test.to_frame()"
   ]
  },
  {
   "cell_type": "code",
   "execution_count": 64,
   "id": "65583fac",
   "metadata": {
    "id": "65583fac"
   },
   "outputs": [],
   "source": [
    "table_sampleName.index.name = \"Sample_ID\"\n",
    "table_sampleName.reset_index(inplace=True)\n",
    "table_sampleName=table_sampleName.set_axis(['Sample_ID', 'tmp'],axis='columns')"
   ]
  },
  {
   "cell_type": "code",
   "execution_count": 65,
   "id": "3927755c",
   "metadata": {
    "id": "3927755c"
   },
   "outputs": [],
   "source": [
    "table_sampleName[\"Sample_Name\"]=table_sampleName[\"tmp\"].apply(lambda x: x.split(\",\")[0])"
   ]
  },
  {
   "cell_type": "code",
   "execution_count": 66,
   "id": "87dd1907",
   "metadata": {
    "id": "87dd1907"
   },
   "outputs": [],
   "source": [
    "table_sampleName[\"tissue\"]=table_sampleName[\"tmp\"].apply(lambda x: x.split(\",\")[1])"
   ]
  },
  {
   "cell_type": "code",
   "execution_count": 67,
   "id": "3e0a1ca0",
   "metadata": {
    "id": "3e0a1ca0"
   },
   "outputs": [],
   "source": [
    "table_sampleName[\"cell_line\"]=table_sampleName[\"tmp\"].apply(lambda x: x.split(\",\")[2])"
   ]
  },
  {
   "cell_type": "code",
   "execution_count": 68,
   "id": "59ec4570",
   "metadata": {
    "id": "59ec4570"
   },
   "outputs": [],
   "source": [
    "table_sampleName[\"disease\"]=table_sampleName[\"tmp\"].apply(lambda x: x.split(\",\")[3])"
   ]
  },
  {
   "cell_type": "code",
   "execution_count": 69,
   "id": "40de96fc-d94e-4f20-b5cd-e708b4758593",
   "metadata": {},
   "outputs": [],
   "source": [
    "table_sampleName[\"ethnicity\"]=table_sampleName[\"tmp\"].apply(lambda x: x.split(\",\")[4])"
   ]
  },
  {
   "cell_type": "code",
   "execution_count": 70,
   "id": "d1398e1f",
   "metadata": {
    "id": "d1398e1f",
    "scrolled": true
   },
   "outputs": [
    {
     "data": {
      "text/html": [
       "<div>\n",
       "<style scoped>\n",
       "    .dataframe tbody tr th:only-of-type {\n",
       "        vertical-align: middle;\n",
       "    }\n",
       "\n",
       "    .dataframe tbody tr th {\n",
       "        vertical-align: top;\n",
       "    }\n",
       "\n",
       "    .dataframe thead th {\n",
       "        text-align: right;\n",
       "    }\n",
       "</style>\n",
       "<table border=\"1\" class=\"dataframe\">\n",
       "  <thead>\n",
       "    <tr style=\"text-align: right;\">\n",
       "      <th></th>\n",
       "      <th>Sample_ID</th>\n",
       "      <th>Sample_Name</th>\n",
       "      <th>tissue</th>\n",
       "      <th>cell_line</th>\n",
       "      <th>disease</th>\n",
       "      <th>ethnicity</th>\n",
       "    </tr>\n",
       "  </thead>\n",
       "  <tbody>\n",
       "    <tr>\n",
       "      <th>0</th>\n",
       "      <td>SAMN10988035</td>\n",
       "      <td>HCC366_LUNG</td>\n",
       "      <td>lung</td>\n",
       "      <td>HCC-366</td>\n",
       "      <td>carcinoma (mixed_adenosquamous_carcinoma)</td>\n",
       "      <td>Caucasian</td>\n",
       "    </tr>\n",
       "    <tr>\n",
       "      <th>1</th>\n",
       "      <td>SAMN10988526</td>\n",
       "      <td>HCC4006_LUNG</td>\n",
       "      <td>lung</td>\n",
       "      <td>HCC4006</td>\n",
       "      <td>carcinoma (adenocarcinoma)</td>\n",
       "      <td>Caucasian</td>\n",
       "    </tr>\n",
       "    <tr>\n",
       "      <th>2</th>\n",
       "      <td>SAMN10988141</td>\n",
       "      <td>HCC56_LARGE_INTESTINE</td>\n",
       "      <td>large_intestine</td>\n",
       "      <td>HCC-56</td>\n",
       "      <td>carcinoma (adenocarcinoma)</td>\n",
       "      <td>Asian</td>\n",
       "    </tr>\n",
       "    <tr>\n",
       "      <th>3</th>\n",
       "      <td>SAMN10988287</td>\n",
       "      <td>HCC78_LUNG</td>\n",
       "      <td>lung</td>\n",
       "      <td>HCC-78</td>\n",
       "      <td>carcinoma (adenocarcinoma)</td>\n",
       "      <td>Caucasian</td>\n",
       "    </tr>\n",
       "    <tr>\n",
       "      <th>4</th>\n",
       "      <td>SAMN10989587</td>\n",
       "      <td>HOP62_LUNG</td>\n",
       "      <td>lung</td>\n",
       "      <td>HOP-62</td>\n",
       "      <td>carcinoma (adenocarcinoma)</td>\n",
       "      <td>Caucasian</td>\n",
       "    </tr>\n",
       "    <tr>\n",
       "      <th>...</th>\n",
       "      <td>...</td>\n",
       "      <td>...</td>\n",
       "      <td>...</td>\n",
       "      <td>...</td>\n",
       "      <td>...</td>\n",
       "      <td>...</td>\n",
       "    </tr>\n",
       "    <tr>\n",
       "      <th>1057</th>\n",
       "      <td>SAMN10988010</td>\n",
       "      <td>CORL51_LUNG</td>\n",
       "      <td>lung</td>\n",
       "      <td>COR-L51</td>\n",
       "      <td>carcinoma (small_cell_carcinoma)</td>\n",
       "      <td>Caucasian</td>\n",
       "    </tr>\n",
       "    <tr>\n",
       "      <th>1058</th>\n",
       "      <td>SAMN10988106</td>\n",
       "      <td>COLO818_SKIN</td>\n",
       "      <td>skin</td>\n",
       "      <td>COLO-818</td>\n",
       "      <td>malignant_melanoma</td>\n",
       "      <td>Caucasian</td>\n",
       "    </tr>\n",
       "    <tr>\n",
       "      <th>1059</th>\n",
       "      <td>SAMN10988202</td>\n",
       "      <td>MOLT4_HAEMATOPOIETIC_AND_LYMPHOID_TISSUE</td>\n",
       "      <td>haematopoietic_and_lymphoid_tissue</td>\n",
       "      <td>MOLT-4</td>\n",
       "      <td>lymphoid_neoplasm (acute_lymphoblastic_T_cell_...</td>\n",
       "      <td>Caucasian</td>\n",
       "    </tr>\n",
       "    <tr>\n",
       "      <th>1060</th>\n",
       "      <td>SAMN10987675</td>\n",
       "      <td>OC316_OVARY</td>\n",
       "      <td>ovary</td>\n",
       "      <td>OC 316</td>\n",
       "      <td>carcinoma (adenocarcinoma)</td>\n",
       "      <td>Caucasian</td>\n",
       "    </tr>\n",
       "    <tr>\n",
       "      <th>1061</th>\n",
       "      <td>SAMN10988192</td>\n",
       "      <td>OCILY10_HAEMATOPOIETIC_AND_LYMPHOID_TISSUE</td>\n",
       "      <td>haematopoietic_and_lymphoid_tissue</td>\n",
       "      <td>OCI-LY10</td>\n",
       "      <td>lymphoid_neoplasm (diffuse_large_B_cell_lymphoma)</td>\n",
       "      <td>Caucasian</td>\n",
       "    </tr>\n",
       "  </tbody>\n",
       "</table>\n",
       "<p>1062 rows × 6 columns</p>\n",
       "</div>"
      ],
      "text/plain": [
       "         Sample_ID                                 Sample_Name  \\\n",
       "0     SAMN10988035                                 HCC366_LUNG   \n",
       "1     SAMN10988526                                HCC4006_LUNG   \n",
       "2     SAMN10988141                       HCC56_LARGE_INTESTINE   \n",
       "3     SAMN10988287                                  HCC78_LUNG   \n",
       "4     SAMN10989587                                  HOP62_LUNG   \n",
       "...            ...                                         ...   \n",
       "1057  SAMN10988010                                 CORL51_LUNG   \n",
       "1058  SAMN10988106                                COLO818_SKIN   \n",
       "1059  SAMN10988202    MOLT4_HAEMATOPOIETIC_AND_LYMPHOID_TISSUE   \n",
       "1060  SAMN10987675                                 OC316_OVARY   \n",
       "1061  SAMN10988192  OCILY10_HAEMATOPOIETIC_AND_LYMPHOID_TISSUE   \n",
       "\n",
       "                                  tissue cell_line  \\\n",
       "0                                   lung   HCC-366   \n",
       "1                                   lung   HCC4006   \n",
       "2                        large_intestine    HCC-56   \n",
       "3                                   lung    HCC-78   \n",
       "4                                   lung    HOP-62   \n",
       "...                                  ...       ...   \n",
       "1057                                lung   COR-L51   \n",
       "1058                                skin  COLO-818   \n",
       "1059  haematopoietic_and_lymphoid_tissue    MOLT-4   \n",
       "1060                               ovary    OC 316   \n",
       "1061  haematopoietic_and_lymphoid_tissue  OCI-LY10   \n",
       "\n",
       "                                                disease  ethnicity  \n",
       "0             carcinoma (mixed_adenosquamous_carcinoma)  Caucasian  \n",
       "1                            carcinoma (adenocarcinoma)  Caucasian  \n",
       "2                            carcinoma (adenocarcinoma)      Asian  \n",
       "3                            carcinoma (adenocarcinoma)  Caucasian  \n",
       "4                            carcinoma (adenocarcinoma)  Caucasian  \n",
       "...                                                 ...        ...  \n",
       "1057                   carcinoma (small_cell_carcinoma)  Caucasian  \n",
       "1058                                 malignant_melanoma  Caucasian  \n",
       "1059  lymphoid_neoplasm (acute_lymphoblastic_T_cell_...  Caucasian  \n",
       "1060                         carcinoma (adenocarcinoma)  Caucasian  \n",
       "1061  lymphoid_neoplasm (diffuse_large_B_cell_lymphoma)  Caucasian  \n",
       "\n",
       "[1062 rows x 6 columns]"
      ]
     },
     "execution_count": 70,
     "metadata": {},
     "output_type": "execute_result"
    }
   ],
   "source": [
    "table_sampleName.drop(\"tmp\", axis=1)"
   ]
  },
  {
   "cell_type": "markdown",
   "id": "d04217df-6dda-4171-b913-fdd15fb0e5eb",
   "metadata": {},
   "source": [
    "## Save df on CSV"
   ]
  },
  {
   "cell_type": "code",
   "execution_count": 71,
   "id": "ad958fbe",
   "metadata": {
    "id": "ad958fbe"
   },
   "outputs": [],
   "source": [
    "table_sampleName.to_csv(\"table_sampleName.csv\",sep=\"\\t\")"
   ]
  },
  {
   "cell_type": "code",
   "execution_count": null,
   "id": "5406ca2a",
   "metadata": {
    "id": "5406ca2a"
   },
   "outputs": [],
   "source": [
    "table_sampleName[\"tissue\"].unique()"
   ]
  },
  {
   "cell_type": "code",
   "execution_count": null,
   "id": "12bc4eec-5646-47f3-aab7-b593acaa7649",
   "metadata": {},
   "outputs": [],
   "source": []
  },
  {
   "cell_type": "markdown",
   "id": "587453dd-c943-4724-ad4a-f4bd50d3747d",
   "metadata": {
    "id": "587453dd-c943-4724-ad4a-f4bd50d3747d"
   },
   "source": [
    "# Final Dataframe"
   ]
  },
  {
   "cell_type": "markdown",
   "id": "2d6f0f36-1182-48f6-b56d-7ba263dcedae",
   "metadata": {
    "jp-MarkdownHeadingCollapsed": true
   },
   "source": [
    "## Load CSV  sample table and affymetrix info file"
   ]
  },
  {
   "cell_type": "code",
   "execution_count": 15,
   "id": "c3c58c67-42a1-41f3-8e08-105efd269b99",
   "metadata": {
    "id": "c3c58c67-42a1-41f3-8e08-105efd269b99"
   },
   "outputs": [],
   "source": [
    "table_sampleName= pd.read_csv(\"table_sampleName.csv\",sep=\"\\t\")\n",
    "df_copyNumber= pd.read_csv(\"CCLE_SNP.Arrays.sif_2013-12-03.txt\",sep=\"\\t\")\n",
    "db_02=db_01.copy()"
   ]
  },
  {
   "cell_type": "code",
   "execution_count": 16,
   "id": "1fe96f56-ee05-44cc-97a9-178ee1d580c5",
   "metadata": {
    "id": "1fe96f56-ee05-44cc-97a9-178ee1d580c5"
   },
   "outputs": [],
   "source": [
    "db_02=db_02.set_axis(['study_accession',\n",
    " 'experiment_accession',\n",
    " 'experiment_title',\n",
    " 'experiment_desc',\n",
    " 'library_name',\n",
    " 'library_strategy',\n",
    " 'library_source',\n",
    " 'sample_accession',\n",
    " 'Sample_ID',\n",
    " 'instrument',\n",
    " 'instrument_model',\n",
    " 'instrument_model_desc',\n",
    " 'run_accession'],axis=\"columns\")"
   ]
  },
  {
   "cell_type": "markdown",
   "id": "7ad6d12b-d767-4d4b-82d0-c80e0ec4314c",
   "metadata": {},
   "source": [
    "## Merge Dataframes"
   ]
  },
  {
   "cell_type": "code",
   "execution_count": 17,
   "id": "dea79586-0886-4f3a-8bf5-59d19e57a9b0",
   "metadata": {
    "id": "dea79586-0886-4f3a-8bf5-59d19e57a9b0"
   },
   "outputs": [],
   "source": [
    "db_03=db_02.join(table_sampleName.set_index('Sample_ID'), on='Sample_ID', validate='m:1')"
   ]
  },
  {
   "cell_type": "code",
   "execution_count": 18,
   "id": "08080f19-a792-4bf9-9e16-d78d5d3f7e8e",
   "metadata": {
    "collapsed": true,
    "id": "08080f19-a792-4bf9-9e16-d78d5d3f7e8e",
    "jupyter": {
     "outputs_hidden": true
    },
    "outputId": "1020636c-c90c-4e73-db77-c0ff09b69ba4",
    "scrolled": true
   },
   "outputs": [
    {
     "data": {
      "text/html": [
       "<div>\n",
       "<style scoped>\n",
       "    .dataframe tbody tr th:only-of-type {\n",
       "        vertical-align: middle;\n",
       "    }\n",
       "\n",
       "    .dataframe tbody tr th {\n",
       "        vertical-align: top;\n",
       "    }\n",
       "\n",
       "    .dataframe thead th {\n",
       "        text-align: right;\n",
       "    }\n",
       "</style>\n",
       "<table border=\"1\" class=\"dataframe\">\n",
       "  <thead>\n",
       "    <tr style=\"text-align: right;\">\n",
       "      <th></th>\n",
       "      <th>study_accession</th>\n",
       "      <th>experiment_accession</th>\n",
       "      <th>experiment_title</th>\n",
       "      <th>experiment_desc</th>\n",
       "      <th>library_name</th>\n",
       "      <th>library_strategy</th>\n",
       "      <th>library_source</th>\n",
       "      <th>sample_accession</th>\n",
       "      <th>Sample_ID</th>\n",
       "      <th>instrument</th>\n",
       "      <th>instrument_model</th>\n",
       "      <th>instrument_model_desc</th>\n",
       "      <th>run_accession</th>\n",
       "      <th>Unnamed: 0</th>\n",
       "      <th>Sample_Name</th>\n",
       "      <th>tissue</th>\n",
       "      <th>cell_line</th>\n",
       "      <th>disease</th>\n",
       "    </tr>\n",
       "  </thead>\n",
       "  <tbody>\n",
       "    <tr>\n",
       "      <th>4360</th>\n",
       "      <td>SRP186687</td>\n",
       "      <td>SRX5414209</td>\n",
       "      <td>TERTp of HCC366_LUNG</td>\n",
       "      <td>TERTp of HCC366_LUNG</td>\n",
       "      <td>TERTp-HCC366_LUNG</td>\n",
       "      <td>AMPLICON</td>\n",
       "      <td>GENOMIC</td>\n",
       "      <td>SRS4395289</td>\n",
       "      <td>SAMN10988035</td>\n",
       "      <td>Illumina MiSeq</td>\n",
       "      <td>Illumina MiSeq</td>\n",
       "      <td>ILLUMINA</td>\n",
       "      <td>SRR8615031</td>\n",
       "      <td>0</td>\n",
       "      <td>HCC366_LUNG</td>\n",
       "      <td>lung</td>\n",
       "      <td>HCC-366</td>\n",
       "      <td>carcinoma (mixed_adenosquamous_carcinoma)</td>\n",
       "    </tr>\n",
       "    <tr>\n",
       "      <th>4361</th>\n",
       "      <td>SRP186687</td>\n",
       "      <td>SRX5414208</td>\n",
       "      <td>TERTp of HCC4006_LUNG</td>\n",
       "      <td>TERTp of HCC4006_LUNG</td>\n",
       "      <td>TERTp-HCC4006_LUNG</td>\n",
       "      <td>AMPLICON</td>\n",
       "      <td>GENOMIC</td>\n",
       "      <td>SRS4395288</td>\n",
       "      <td>SAMN10988526</td>\n",
       "      <td>Illumina MiSeq</td>\n",
       "      <td>Illumina MiSeq</td>\n",
       "      <td>ILLUMINA</td>\n",
       "      <td>SRR8615032</td>\n",
       "      <td>1</td>\n",
       "      <td>HCC4006_LUNG</td>\n",
       "      <td>lung</td>\n",
       "      <td>HCC4006</td>\n",
       "      <td>carcinoma (adenocarcinoma)</td>\n",
       "    </tr>\n",
       "    <tr>\n",
       "      <th>4362</th>\n",
       "      <td>SRP186687</td>\n",
       "      <td>SRX5414207</td>\n",
       "      <td>TERTp of HCC56_LARGE_INTESTINE</td>\n",
       "      <td>TERTp of HCC56_LARGE_INTESTINE</td>\n",
       "      <td>TERTp-HCC56_LARGE_INTESTINE</td>\n",
       "      <td>AMPLICON</td>\n",
       "      <td>GENOMIC</td>\n",
       "      <td>SRS4395287</td>\n",
       "      <td>SAMN10988141</td>\n",
       "      <td>Illumina MiSeq</td>\n",
       "      <td>Illumina MiSeq</td>\n",
       "      <td>ILLUMINA</td>\n",
       "      <td>SRR8615033</td>\n",
       "      <td>2</td>\n",
       "      <td>HCC56_LARGE_INTESTINE</td>\n",
       "      <td>large_intestine</td>\n",
       "      <td>HCC-56</td>\n",
       "      <td>carcinoma (adenocarcinoma)</td>\n",
       "    </tr>\n",
       "    <tr>\n",
       "      <th>4363</th>\n",
       "      <td>SRP186687</td>\n",
       "      <td>SRX5414206</td>\n",
       "      <td>TERTp of HCC78_LUNG</td>\n",
       "      <td>TERTp of HCC78_LUNG</td>\n",
       "      <td>TERTp-HCC78_LUNG</td>\n",
       "      <td>AMPLICON</td>\n",
       "      <td>GENOMIC</td>\n",
       "      <td>SRS4395286</td>\n",
       "      <td>SAMN10988287</td>\n",
       "      <td>Illumina MiSeq</td>\n",
       "      <td>Illumina MiSeq</td>\n",
       "      <td>ILLUMINA</td>\n",
       "      <td>SRR8615034</td>\n",
       "      <td>35</td>\n",
       "      <td>HCC78_LUNG</td>\n",
       "      <td>lung</td>\n",
       "      <td>HCC-78</td>\n",
       "      <td>carcinoma (adenocarcinoma)</td>\n",
       "    </tr>\n",
       "    <tr>\n",
       "      <th>4364</th>\n",
       "      <td>SRP186687</td>\n",
       "      <td>SRX5414205</td>\n",
       "      <td>TERTp of HOP62_LUNG</td>\n",
       "      <td>TERTp of HOP62_LUNG</td>\n",
       "      <td>TERTp-HOP62_LUNG</td>\n",
       "      <td>AMPLICON</td>\n",
       "      <td>GENOMIC</td>\n",
       "      <td>SRS4395285</td>\n",
       "      <td>SAMN10989587</td>\n",
       "      <td>Illumina MiSeq</td>\n",
       "      <td>Illumina MiSeq</td>\n",
       "      <td>ILLUMINA</td>\n",
       "      <td>SRR8615035</td>\n",
       "      <td>3</td>\n",
       "      <td>HOP62_LUNG</td>\n",
       "      <td>lung</td>\n",
       "      <td>HOP-62</td>\n",
       "      <td>carcinoma (adenocarcinoma)</td>\n",
       "    </tr>\n",
       "    <tr>\n",
       "      <th>...</th>\n",
       "      <td>...</td>\n",
       "      <td>...</td>\n",
       "      <td>...</td>\n",
       "      <td>...</td>\n",
       "      <td>...</td>\n",
       "      <td>...</td>\n",
       "      <td>...</td>\n",
       "      <td>...</td>\n",
       "      <td>...</td>\n",
       "      <td>...</td>\n",
       "      <td>...</td>\n",
       "      <td>...</td>\n",
       "      <td>...</td>\n",
       "      <td>...</td>\n",
       "      <td>...</td>\n",
       "      <td>...</td>\n",
       "      <td>...</td>\n",
       "      <td>...</td>\n",
       "    </tr>\n",
       "    <tr>\n",
       "      <th>111</th>\n",
       "      <td>SRP186687</td>\n",
       "      <td>SRX5466605</td>\n",
       "      <td>WGS of SKUT1_SOFT_TISSUE</td>\n",
       "      <td>WGS of SKUT1_SOFT_TISSUE</td>\n",
       "      <td>WGS-SKUT1_SOFT_TISSUE</td>\n",
       "      <td>WGS</td>\n",
       "      <td>GENOMIC</td>\n",
       "      <td>SRS4395564</td>\n",
       "      <td>SAMN10987664</td>\n",
       "      <td>Illumina HiSeq 2000</td>\n",
       "      <td>Illumina HiSeq 2000</td>\n",
       "      <td>ILLUMINA</td>\n",
       "      <td>SRR8670775</td>\n",
       "      <td>691</td>\n",
       "      <td>SKUT1_SOFT_TISSUE</td>\n",
       "      <td>soft_tissue</td>\n",
       "      <td>SK-UT-1</td>\n",
       "      <td>leiomyosarcoma</td>\n",
       "    </tr>\n",
       "    <tr>\n",
       "      <th>0</th>\n",
       "      <td>SRP186687</td>\n",
       "      <td>SRX5578769</td>\n",
       "      <td>WGS of DANG_PANCREAS</td>\n",
       "      <td>WGS of DANG_PANCREAS</td>\n",
       "      <td>WGS-DANG_PANCREAS</td>\n",
       "      <td>WGS</td>\n",
       "      <td>GENOMIC</td>\n",
       "      <td>SRS4395998</td>\n",
       "      <td>SAMN10987807</td>\n",
       "      <td>Illumina HiSeq 2000</td>\n",
       "      <td>Illumina HiSeq 2000</td>\n",
       "      <td>ILLUMINA</td>\n",
       "      <td>SRR8788980</td>\n",
       "      <td>776</td>\n",
       "      <td>DANG_PANCREAS</td>\n",
       "      <td>pancreas</td>\n",
       "      <td>DAN-G</td>\n",
       "      <td>carcinoma</td>\n",
       "    </tr>\n",
       "    <tr>\n",
       "      <th>1</th>\n",
       "      <td>SRP186687</td>\n",
       "      <td>SRX5578768</td>\n",
       "      <td>WGS of DMS114_LUNG</td>\n",
       "      <td>WGS of DMS114_LUNG</td>\n",
       "      <td>WGS-DMS114_LUNG</td>\n",
       "      <td>WGS</td>\n",
       "      <td>GENOMIC</td>\n",
       "      <td>SRS4395964</td>\n",
       "      <td>SAMN10988190</td>\n",
       "      <td>Illumina HiSeq 2000</td>\n",
       "      <td>Illumina HiSeq 2000</td>\n",
       "      <td>ILLUMINA</td>\n",
       "      <td>SRR8788981</td>\n",
       "      <td>810</td>\n",
       "      <td>DMS114_LUNG</td>\n",
       "      <td>lung</td>\n",
       "      <td>DMS 114</td>\n",
       "      <td>carcinoma (small_cell_carcinoma)</td>\n",
       "    </tr>\n",
       "    <tr>\n",
       "      <th>2</th>\n",
       "      <td>SRP186687</td>\n",
       "      <td>SRX5578767</td>\n",
       "      <td>WGS of DMS273_LUNG</td>\n",
       "      <td>WGS of DMS273_LUNG</td>\n",
       "      <td>WGS-DMS273_LUNG</td>\n",
       "      <td>WGS</td>\n",
       "      <td>GENOMIC</td>\n",
       "      <td>SRS4395963</td>\n",
       "      <td>SAMN10987982</td>\n",
       "      <td>Illumina HiSeq 2000</td>\n",
       "      <td>Illumina HiSeq 2000</td>\n",
       "      <td>ILLUMINA</td>\n",
       "      <td>SRR8788982</td>\n",
       "      <td>812</td>\n",
       "      <td>DMS273_LUNG</td>\n",
       "      <td>lung</td>\n",
       "      <td>DMS 273</td>\n",
       "      <td>carcinoma (small_cell_carcinoma)</td>\n",
       "    </tr>\n",
       "    <tr>\n",
       "      <th>3</th>\n",
       "      <td>SRP186687</td>\n",
       "      <td>SRX5578766</td>\n",
       "      <td>WGS of QGP1_PANCREAS</td>\n",
       "      <td>WGS of QGP1_PANCREAS</td>\n",
       "      <td>WGS-QGP1_PANCREAS</td>\n",
       "      <td>WGS</td>\n",
       "      <td>GENOMIC</td>\n",
       "      <td>SRS4395987</td>\n",
       "      <td>SAMN10988306</td>\n",
       "      <td>Illumina HiSeq 2000</td>\n",
       "      <td>Illumina HiSeq 2000</td>\n",
       "      <td>ILLUMINA</td>\n",
       "      <td>SRR8788983</td>\n",
       "      <td>787</td>\n",
       "      <td>QGP1_PANCREAS</td>\n",
       "      <td>pancreas</td>\n",
       "      <td>QGP-1</td>\n",
       "      <td>carcinoma</td>\n",
       "    </tr>\n",
       "  </tbody>\n",
       "</table>\n",
       "<p>4550 rows × 18 columns</p>\n",
       "</div>"
      ],
      "text/plain": [
       "     study_accession experiment_accession                experiment_title  \\\n",
       "4360       SRP186687           SRX5414209            TERTp of HCC366_LUNG   \n",
       "4361       SRP186687           SRX5414208           TERTp of HCC4006_LUNG   \n",
       "4362       SRP186687           SRX5414207  TERTp of HCC56_LARGE_INTESTINE   \n",
       "4363       SRP186687           SRX5414206             TERTp of HCC78_LUNG   \n",
       "4364       SRP186687           SRX5414205             TERTp of HOP62_LUNG   \n",
       "...              ...                  ...                             ...   \n",
       "111        SRP186687           SRX5466605        WGS of SKUT1_SOFT_TISSUE   \n",
       "0          SRP186687           SRX5578769            WGS of DANG_PANCREAS   \n",
       "1          SRP186687           SRX5578768              WGS of DMS114_LUNG   \n",
       "2          SRP186687           SRX5578767              WGS of DMS273_LUNG   \n",
       "3          SRP186687           SRX5578766            WGS of QGP1_PANCREAS   \n",
       "\n",
       "                     experiment_desc                 library_name  \\\n",
       "4360            TERTp of HCC366_LUNG            TERTp-HCC366_LUNG   \n",
       "4361           TERTp of HCC4006_LUNG           TERTp-HCC4006_LUNG   \n",
       "4362  TERTp of HCC56_LARGE_INTESTINE  TERTp-HCC56_LARGE_INTESTINE   \n",
       "4363             TERTp of HCC78_LUNG             TERTp-HCC78_LUNG   \n",
       "4364             TERTp of HOP62_LUNG             TERTp-HOP62_LUNG   \n",
       "...                              ...                          ...   \n",
       "111         WGS of SKUT1_SOFT_TISSUE        WGS-SKUT1_SOFT_TISSUE   \n",
       "0               WGS of DANG_PANCREAS            WGS-DANG_PANCREAS   \n",
       "1                 WGS of DMS114_LUNG              WGS-DMS114_LUNG   \n",
       "2                 WGS of DMS273_LUNG              WGS-DMS273_LUNG   \n",
       "3               WGS of QGP1_PANCREAS            WGS-QGP1_PANCREAS   \n",
       "\n",
       "     library_strategy library_source sample_accession     Sample_ID  \\\n",
       "4360         AMPLICON        GENOMIC       SRS4395289  SAMN10988035   \n",
       "4361         AMPLICON        GENOMIC       SRS4395288  SAMN10988526   \n",
       "4362         AMPLICON        GENOMIC       SRS4395287  SAMN10988141   \n",
       "4363         AMPLICON        GENOMIC       SRS4395286  SAMN10988287   \n",
       "4364         AMPLICON        GENOMIC       SRS4395285  SAMN10989587   \n",
       "...               ...            ...              ...           ...   \n",
       "111               WGS        GENOMIC       SRS4395564  SAMN10987664   \n",
       "0                 WGS        GENOMIC       SRS4395998  SAMN10987807   \n",
       "1                 WGS        GENOMIC       SRS4395964  SAMN10988190   \n",
       "2                 WGS        GENOMIC       SRS4395963  SAMN10987982   \n",
       "3                 WGS        GENOMIC       SRS4395987  SAMN10988306   \n",
       "\n",
       "               instrument     instrument_model instrument_model_desc  \\\n",
       "4360       Illumina MiSeq       Illumina MiSeq              ILLUMINA   \n",
       "4361       Illumina MiSeq       Illumina MiSeq              ILLUMINA   \n",
       "4362       Illumina MiSeq       Illumina MiSeq              ILLUMINA   \n",
       "4363       Illumina MiSeq       Illumina MiSeq              ILLUMINA   \n",
       "4364       Illumina MiSeq       Illumina MiSeq              ILLUMINA   \n",
       "...                   ...                  ...                   ...   \n",
       "111   Illumina HiSeq 2000  Illumina HiSeq 2000              ILLUMINA   \n",
       "0     Illumina HiSeq 2000  Illumina HiSeq 2000              ILLUMINA   \n",
       "1     Illumina HiSeq 2000  Illumina HiSeq 2000              ILLUMINA   \n",
       "2     Illumina HiSeq 2000  Illumina HiSeq 2000              ILLUMINA   \n",
       "3     Illumina HiSeq 2000  Illumina HiSeq 2000              ILLUMINA   \n",
       "\n",
       "     run_accession  Unnamed: 0            Sample_Name           tissue  \\\n",
       "4360    SRR8615031           0            HCC366_LUNG             lung   \n",
       "4361    SRR8615032           1           HCC4006_LUNG             lung   \n",
       "4362    SRR8615033           2  HCC56_LARGE_INTESTINE  large_intestine   \n",
       "4363    SRR8615034          35             HCC78_LUNG             lung   \n",
       "4364    SRR8615035           3             HOP62_LUNG             lung   \n",
       "...            ...         ...                    ...              ...   \n",
       "111     SRR8670775         691      SKUT1_SOFT_TISSUE      soft_tissue   \n",
       "0       SRR8788980         776          DANG_PANCREAS         pancreas   \n",
       "1       SRR8788981         810            DMS114_LUNG             lung   \n",
       "2       SRR8788982         812            DMS273_LUNG             lung   \n",
       "3       SRR8788983         787          QGP1_PANCREAS         pancreas   \n",
       "\n",
       "     cell_line                                    disease  \n",
       "4360   HCC-366  carcinoma (mixed_adenosquamous_carcinoma)  \n",
       "4361   HCC4006                 carcinoma (adenocarcinoma)  \n",
       "4362    HCC-56                 carcinoma (adenocarcinoma)  \n",
       "4363    HCC-78                 carcinoma (adenocarcinoma)  \n",
       "4364    HOP-62                 carcinoma (adenocarcinoma)  \n",
       "...        ...                                        ...  \n",
       "111    SK-UT-1                             leiomyosarcoma  \n",
       "0        DAN-G                                  carcinoma  \n",
       "1      DMS 114           carcinoma (small_cell_carcinoma)  \n",
       "2      DMS 273           carcinoma (small_cell_carcinoma)  \n",
       "3        QGP-1                                  carcinoma  \n",
       "\n",
       "[4550 rows x 18 columns]"
      ]
     },
     "execution_count": 18,
     "metadata": {},
     "output_type": "execute_result"
    }
   ],
   "source": [
    "db_03.drop([\"tmp\"],axis=1)"
   ]
  },
  {
   "cell_type": "markdown",
   "id": "81e6c61b-ffd7-4a94-bc03-fca87c0be710",
   "metadata": {},
   "source": [
    "## Discovery 002"
   ]
  },
  {
   "cell_type": "code",
   "execution_count": 19,
   "id": "1b0f5d51-2ccb-4d57-879f-4c835418f53a",
   "metadata": {
    "id": "1b0f5d51-2ccb-4d57-879f-4c835418f53a"
   },
   "outputs": [],
   "source": [
    "subGroups=['RNA-Seq' ,'WXS','WGS']\n",
    "db_04=db_03.loc[db_03['library_strategy'].isin(subGroups)]"
   ]
  },
  {
   "cell_type": "code",
   "execution_count": 20,
   "id": "a858c6a9-00f9-4bd6-9aca-a12cfd21de8b",
   "metadata": {
    "id": "a858c6a9-00f9-4bd6-9aca-a12cfd21de8b",
    "outputId": "1fa8f988-84c7-445d-f4cb-3a0bb375eb32"
   },
   "outputs": [
    {
     "data": {
      "text/plain": [
       "library_strategy\n",
       "RNA-Seq    1019\n",
       "WGS         329\n",
       "WXS         326\n",
       "Name: count, dtype: int64"
      ]
     },
     "execution_count": 20,
     "metadata": {},
     "output_type": "execute_result"
    }
   ],
   "source": [
    "db_04['library_strategy'].value_counts()"
   ]
  },
  {
   "cell_type": "code",
   "execution_count": 21,
   "id": "ac6a0494-e58a-45df-a654-81c8c413e2f8",
   "metadata": {
    "id": "ac6a0494-e58a-45df-a654-81c8c413e2f8",
    "outputId": "416d048f-c708-4873-e835-d5ad0443f67e",
    "scrolled": true
   },
   "outputs": [
    {
     "data": {
      "text/plain": [
       "tissue\n",
       "lung                                  323\n",
       "haematopoietic_and_lymphoid_tissue    279\n",
       "breast                                104\n",
       "large_intestine                        98\n",
       "central_nervous_system                 93\n",
       "skin                                   92\n",
       "ovary                                  86\n",
       "stomach                                74\n",
       "pancreas                               68\n",
       "upper_aerodigestive_tract              56\n",
       "endometrium                            56\n",
       "kidney                                 48\n",
       "liver                                  45\n",
       "soft_tissue                            43\n",
       "oesophagus                             40\n",
       "urinary_tract                          39\n",
       "bone                                   38\n",
       "autonomic_ganglia                      23\n",
       "pleura                                 17\n",
       "thyroid                                16\n",
       "biliary_tract                          15\n",
       "prostate                               15\n",
       "cervix                                  2\n",
       "small_intestine                         2\n",
       "salivary_gland                          2\n",
       "Name: count, dtype: int64"
      ]
     },
     "execution_count": 21,
     "metadata": {},
     "output_type": "execute_result"
    }
   ],
   "source": [
    "db_04['tissue'].value_counts()"
   ]
  },
  {
   "cell_type": "code",
   "execution_count": 22,
   "id": "aaa0a353-3db1-4d1a-a534-e552611a5cc9",
   "metadata": {},
   "outputs": [
    {
     "data": {
      "text/plain": [
       "1674"
      ]
     },
     "execution_count": 22,
     "metadata": {},
     "output_type": "execute_result"
    }
   ],
   "source": [
    "db_04['tissue'].value_counts().sum()\n"
   ]
  },
  {
   "cell_type": "code",
   "execution_count": 23,
   "id": "66d0837e-a79f-4eb3-a355-462db6a88a9e",
   "metadata": {
    "id": "66d0837e-a79f-4eb3-a355-462db6a88a9e",
    "outputId": "4cfbf7d2-996e-487e-a9a0-67ac44ee82cc"
   },
   "outputs": [
    {
     "data": {
      "text/html": [
       "<div>\n",
       "<style scoped>\n",
       "    .dataframe tbody tr th:only-of-type {\n",
       "        vertical-align: middle;\n",
       "    }\n",
       "\n",
       "    .dataframe tbody tr th {\n",
       "        vertical-align: top;\n",
       "    }\n",
       "\n",
       "    .dataframe thead th {\n",
       "        text-align: right;\n",
       "    }\n",
       "</style>\n",
       "<table border=\"1\" class=\"dataframe\">\n",
       "  <thead>\n",
       "    <tr style=\"text-align: right;\">\n",
       "      <th></th>\n",
       "      <th>study_accession</th>\n",
       "      <th>experiment_accession</th>\n",
       "      <th>experiment_title</th>\n",
       "      <th>experiment_desc</th>\n",
       "      <th>library_name</th>\n",
       "      <th>library_strategy</th>\n",
       "      <th>library_source</th>\n",
       "      <th>sample_accession</th>\n",
       "      <th>Sample_ID</th>\n",
       "      <th>instrument</th>\n",
       "      <th>instrument_model</th>\n",
       "      <th>instrument_model_desc</th>\n",
       "      <th>run_accession</th>\n",
       "      <th>Unnamed: 0</th>\n",
       "      <th>tmp</th>\n",
       "      <th>Sample_Name</th>\n",
       "      <th>tissue</th>\n",
       "      <th>cell_line</th>\n",
       "      <th>disease</th>\n",
       "    </tr>\n",
       "  </thead>\n",
       "  <tbody>\n",
       "  </tbody>\n",
       "</table>\n",
       "</div>"
      ],
      "text/plain": [
       "Empty DataFrame\n",
       "Columns: [study_accession, experiment_accession, experiment_title, experiment_desc, library_name, library_strategy, library_source, sample_accession, Sample_ID, instrument, instrument_model, instrument_model_desc, run_accession, Unnamed: 0, tmp, Sample_Name, tissue, cell_line, disease]\n",
       "Index: []"
      ]
     },
     "execution_count": 23,
     "metadata": {},
     "output_type": "execute_result"
    }
   ],
   "source": [
    "db_04.loc[db_04['tissue'].isnull()]"
   ]
  },
  {
   "cell_type": "markdown",
   "id": "ad9fa17a-5c05-49d4-8db0-db9ddd04f02f",
   "metadata": {},
   "source": [
    "## Discovery 003"
   ]
  },
  {
   "cell_type": "markdown",
   "id": "bcdf3cbc-9ded-492e-a463-33fa3fffac98",
   "metadata": {},
   "source": [
    "### Function Definitions"
   ]
  },
  {
   "cell_type": "code",
   "execution_count": 26,
   "id": "34d9c6f2-4c86-4865-a707-00d6fa02c0a2",
   "metadata": {
    "id": "34d9c6f2-4c86-4865-a707-00d6fa02c0a2",
    "jupyter": {
     "source_hidden": true
    }
   },
   "outputs": [],
   "source": [
    "def get_lib_strategy(inpt_strategy,inpt_sampleName, inpt_db):\n",
    "    if inpt_strategy in list(inpt_db[inpt_db[\"Sample_Name\"]==inpt_sampleName][\"library_strategy\"]):\n",
    "        return True\n",
    "    else:\n",
    "        return False\n",
    "\n",
    "def get_lib_multiStrategy(inpt_strategy,inpt_notStrategy,inpt_sampleName, inpt_db):\n",
    "    int_len=len(inpt_strategy)\n",
    "    int_notLen =len(inpt_notStrategy)\n",
    "\n",
    "\n",
    "    tmp_list=list(inpt_db[inpt_db[\"Sample_Name\"]==inpt_sampleName][\"library_strategy\"])\n",
    "\n",
    "    if int_notLen==0:\n",
    "\n",
    "        for item in inpt_strategy:\n",
    "            if not(item in tmp_list):\n",
    "                return False\n",
    "\n",
    "        return True\n",
    "    else:\n",
    "        for item in inpt_strategy:\n",
    "            if not(item in tmp_list):\n",
    "                return False\n",
    "\n",
    "        for item in inpt_notStrategy:\n",
    "            if item in tmp_list:\n",
    "                return False\n",
    "\n",
    "        return True\n",
    "\n",
    "\n",
    "def count_libStrategy_byTissue(inpt_strategy,inpt_tissue, inpt_db):\n",
    "\n",
    "    return inpt_db[inpt_db[\"tissue\"]==inpt_tissue][inpt_strategy].sum()\n",
    "\n",
    "def get_DNAffy(inpt_tissue,inpt_list):\n",
    "    if inpt_tissue in inpt_list:\n",
    "        return True\n",
    "    else:\n",
    "        return False\n",
    "\n",
    "\n",
    "\n",
    "def get_SRR_name(inpt_strategy,inpt_series,inpt_db):\n",
    "    tmp_name=inpt_series[\"Sample_ID\"]\n",
    "    flag_thereIs =bool(inpt_series[inpt_strategy])\n",
    "\n",
    "\n",
    "    if flag_thereIs:\n",
    "\n",
    "        return( inpt_db.loc[(inpt_db[\"Sample_ID\"]==tmp_name) & (inpt_db[\"library_strategy\"]==inpt_strategy)][\"run_accession\"].values[0])\n",
    "    else:\n",
    "        return \"none\"\n",
    "\n"
   ]
  },
  {
   "cell_type": "markdown",
   "id": "d8f0d7f0-2727-41f4-9914-d47d579824b5",
   "metadata": {},
   "source": [
    "## DataFrame Preprocessing"
   ]
  },
  {
   "cell_type": "code",
   "execution_count": 27,
   "id": "f7306279-e428-4eac-9cf6-845ba522a448",
   "metadata": {
    "id": "f7306279-e428-4eac-9cf6-845ba522a448"
   },
   "outputs": [],
   "source": [
    "table_sampleName_1=table_sampleName.copy()"
   ]
  },
  {
   "cell_type": "code",
   "execution_count": 28,
   "id": "0863a997-70d9-4073-bc82-7c65cf50cbe4",
   "metadata": {
    "id": "0863a997-70d9-4073-bc82-7c65cf50cbe4"
   },
   "outputs": [],
   "source": [
    "table_sampleName_1[\"RNA-Seq\"]= table_sampleName_1['Sample_Name'].apply(lambda x: get_lib_strategy('RNA-Seq',x,db_04))\n",
    "table_sampleName_1[\"WGS\"]= table_sampleName_1['Sample_Name'].apply(lambda x: get_lib_strategy('WGS',x,db_04))\n",
    "table_sampleName_1[\"WXS\"]= table_sampleName_1['Sample_Name'].apply(lambda x: get_lib_strategy('WXS',x,db_04))\n"
   ]
  },
  {
   "cell_type": "code",
   "execution_count": 29,
   "id": "7923476e",
   "metadata": {
    "id": "7923476e"
   },
   "outputs": [],
   "source": [
    "table_sampleName_1[\"RnaSeq+WGS+WXS\"]= table_sampleName_1['Sample_Name'].apply(lambda x: get_lib_multiStrategy(['RNA-Seq','WGS','WXS'],[],x,db_04))\n",
    "table_sampleName_1[\"RnaSeq_only\"]= table_sampleName_1['Sample_Name'].apply(lambda x: get_lib_multiStrategy(['RNA-Seq'],['WGS','WXS'],x,db_04))\n"
   ]
  },
  {
   "cell_type": "code",
   "execution_count": 30,
   "id": "3506c650",
   "metadata": {
    "id": "3506c650"
   },
   "outputs": [],
   "source": [
    "tmp_list=list(df_copyNumber[\"CleanCellLine\"])\n",
    "table_sampleName_1[\"DNA_AffyMtrx\"]=table_sampleName_1['Sample_Name'].apply(lambda x: get_DNAffy(x,tmp_list))"
   ]
  },
  {
   "cell_type": "code",
   "execution_count": 31,
   "id": "cda06954",
   "metadata": {
    "id": "cda06954"
   },
   "outputs": [],
   "source": [
    "table_sampleName_1[\"RnaSeq+W*S+DNAffy\"]= table_sampleName_1.apply(lambda x: x[\"RnaSeq+WGS+WXS\"] and x['DNA_AffyMtrx'],axis=1)\n"
   ]
  },
  {
   "cell_type": "code",
   "execution_count": 32,
   "id": "0e32f367",
   "metadata": {
    "id": "0e32f367"
   },
   "outputs": [],
   "source": [
    "table_sampleName_1[\"SRR_RNA-Seq\"]=table_sampleName_1.apply(lambda x: get_SRR_name(\"RNA-Seq\",x,db_04),axis=1)\n",
    "table_sampleName_1[\"SRR_WGS\"]=table_sampleName_1.apply(lambda x: get_SRR_name(\"WGS\",x,db_04),axis=1)\n",
    "table_sampleName_1[\"SRR_WXS\"]=table_sampleName_1.apply(lambda x: get_SRR_name(\"WXS\",x,db_04),axis=1)"
   ]
  },
  {
   "cell_type": "code",
   "execution_count": null,
   "id": "0ea06784-5014-4521-9085-0bf806a55cb3",
   "metadata": {},
   "outputs": [],
   "source": [
    "## Filter table for sa"
   ]
  },
  {
   "cell_type": "code",
   "execution_count": 33,
   "id": "6ed7a736-9701-47b5-b4d3-b76f560c5c61",
   "metadata": {},
   "outputs": [],
   "source": [
    "table_sampleName_1_toSave=table_sampleName_1[table_sampleName_1.apply(lambda x: (not x[\"RNA-Seq\"]) and (not x[\"WGS\"]) and (not x[\"WXS\"]) and x['DNA_AffyMtrx'],axis=1)]#.to_csv(\"only_affy.txt\")"
   ]
  },
  {
   "cell_type": "code",
   "execution_count": 34,
   "id": "65fe7c1e-9221-491a-8649-7bfa193aac01",
   "metadata": {},
   "outputs": [
    {
     "data": {
      "text/plain": [
       "Index(['Unnamed: 0', 'Sample_ID', 'tmp', 'Sample_Name', 'tissue', 'cell_line',\n",
       "       'disease', 'RNA-Seq', 'WGS', 'WXS', 'RnaSeq+WGS+WXS', 'RnaSeq_only',\n",
       "       'DNA_AffyMtrx', 'RnaSeq+W*S+DNAffy', 'SRR_RNA-Seq', 'SRR_WGS',\n",
       "       'SRR_WXS'],\n",
       "      dtype='object')"
      ]
     },
     "execution_count": 34,
     "metadata": {},
     "output_type": "execute_result"
    }
   ],
   "source": [
    "table_sampleName_1_toSave.columns"
   ]
  },
  {
   "cell_type": "code",
   "execution_count": 35,
   "id": "1c38665e-2812-4ad6-8cf7-cd077b04aedd",
   "metadata": {},
   "outputs": [],
   "source": [
    "table_sampleName_1_toSave=table_sampleName_1_toSave.drop(['Unnamed: 0', 'RNA-Seq', 'WGS', 'WXS', 'RnaSeq+WGS+WXS', 'RnaSeq_only',\n",
    "       'DNA_AffyMtrx', 'RnaSeq+W*S+DNAffy', 'SRR_RNA-Seq', 'SRR_WGS','SRR_WXS'],axis=1)"
   ]
  },
  {
   "cell_type": "markdown",
   "id": "24851acb-5e27-48fa-b264-3f5fed9bcedc",
   "metadata": {},
   "source": [
    "## Save Final DataFrame"
   ]
  },
  {
   "cell_type": "code",
   "execution_count": 36,
   "id": "439735d3-0bab-487f-9e99-8fec83d76060",
   "metadata": {},
   "outputs": [],
   "source": [
    "table_sampleName_1_toSave.to_csv(\"table_sampleName_affy.csv\",index=False,sep=\"\\t\")"
   ]
  },
  {
   "cell_type": "markdown",
   "id": "61883897",
   "metadata": {},
   "source": [
    "##  Sample Table (grouped by Tissue) data"
   ]
  },
  {
   "cell_type": "code",
   "execution_count": 38,
   "id": "12c70502",
   "metadata": {},
   "outputs": [],
   "source": [
    "table_sampleName2Print=table_sampleName_1.sort_values(by=\"tissue\").drop(['Unnamed: 0', 'Sample_ID', 'tmp', 'disease', 'RnaSeq+WGS+WXS', 'RnaSeq_only','RnaSeq+W*S+DNAffy', 'SRR_RNA-Seq', 'SRR_WGS','SRR_WXS'], axis=1).reset_index().drop(\"index\",axis=1)"
   ]
  },
  {
   "cell_type": "code",
   "execution_count": 39,
   "id": "1710c8ac",
   "metadata": {},
   "outputs": [],
   "source": [
    "table_sampleName2Print.to_csv(\"lista_lineeCell_tipoDati.csv\",index=False)"
   ]
  },
  {
   "cell_type": "code",
   "execution_count": 40,
   "id": "47f957a7",
   "metadata": {
    "scrolled": true
   },
   "outputs": [
    {
     "data": {
      "text/html": [
       "<div>\n",
       "<style scoped>\n",
       "    .dataframe tbody tr th:only-of-type {\n",
       "        vertical-align: middle;\n",
       "    }\n",
       "\n",
       "    .dataframe tbody tr th {\n",
       "        vertical-align: top;\n",
       "    }\n",
       "\n",
       "    .dataframe thead th {\n",
       "        text-align: right;\n",
       "    }\n",
       "</style>\n",
       "<table border=\"1\" class=\"dataframe\">\n",
       "  <thead>\n",
       "    <tr style=\"text-align: right;\">\n",
       "      <th></th>\n",
       "      <th>Sample_Name</th>\n",
       "      <th>tissue</th>\n",
       "      <th>cell_line</th>\n",
       "      <th>RNA-Seq</th>\n",
       "      <th>WGS</th>\n",
       "      <th>WXS</th>\n",
       "      <th>DNA_AffyMtrx</th>\n",
       "    </tr>\n",
       "  </thead>\n",
       "  <tbody>\n",
       "    <tr>\n",
       "      <th>0</th>\n",
       "      <td>CHP126_AUTONOMIC_GANGLIA</td>\n",
       "      <td>autonomic_ganglia</td>\n",
       "      <td>CHP-126</td>\n",
       "      <td>True</td>\n",
       "      <td>False</td>\n",
       "      <td>False</td>\n",
       "      <td>True</td>\n",
       "    </tr>\n",
       "    <tr>\n",
       "      <th>1</th>\n",
       "      <td>SKNFI_AUTONOMIC_GANGLIA</td>\n",
       "      <td>autonomic_ganglia</td>\n",
       "      <td>SK-N-FI</td>\n",
       "      <td>True</td>\n",
       "      <td>False</td>\n",
       "      <td>False</td>\n",
       "      <td>True</td>\n",
       "    </tr>\n",
       "    <tr>\n",
       "      <th>2</th>\n",
       "      <td>SKNAS_AUTONOMIC_GANGLIA</td>\n",
       "      <td>autonomic_ganglia</td>\n",
       "      <td>SK-N-AS</td>\n",
       "      <td>True</td>\n",
       "      <td>True</td>\n",
       "      <td>False</td>\n",
       "      <td>True</td>\n",
       "    </tr>\n",
       "    <tr>\n",
       "      <th>3</th>\n",
       "      <td>SHSY5Y_AUTONOMIC_GANGLIA</td>\n",
       "      <td>autonomic_ganglia</td>\n",
       "      <td>SH-SY5Y</td>\n",
       "      <td>False</td>\n",
       "      <td>False</td>\n",
       "      <td>False</td>\n",
       "      <td>True</td>\n",
       "    </tr>\n",
       "    <tr>\n",
       "      <th>4</th>\n",
       "      <td>NB1_AUTONOMIC_GANGLIA</td>\n",
       "      <td>autonomic_ganglia</td>\n",
       "      <td>NB-1</td>\n",
       "      <td>True</td>\n",
       "      <td>False</td>\n",
       "      <td>True</td>\n",
       "      <td>True</td>\n",
       "    </tr>\n",
       "    <tr>\n",
       "      <th>...</th>\n",
       "      <td>...</td>\n",
       "      <td>...</td>\n",
       "      <td>...</td>\n",
       "      <td>...</td>\n",
       "      <td>...</td>\n",
       "      <td>...</td>\n",
       "      <td>...</td>\n",
       "    </tr>\n",
       "    <tr>\n",
       "      <th>1060</th>\n",
       "      <td>ACCS_URINARY_TRACT</td>\n",
       "      <td>urinary_tract</td>\n",
       "      <td>ACCS</td>\n",
       "      <td>False</td>\n",
       "      <td>False</td>\n",
       "      <td>False</td>\n",
       "      <td>False</td>\n",
       "    </tr>\n",
       "    <tr>\n",
       "      <th>1061</th>\n",
       "      <td>RT112_URINARY_TRACT</td>\n",
       "      <td>urinary_tract</td>\n",
       "      <td>RT-112</td>\n",
       "      <td>True</td>\n",
       "      <td>True</td>\n",
       "      <td>False</td>\n",
       "      <td>True</td>\n",
       "    </tr>\n",
       "    <tr>\n",
       "      <th>1062</th>\n",
       "      <td>HT1376_URINARY_TRACT</td>\n",
       "      <td>urinary_tract</td>\n",
       "      <td>HT-1376</td>\n",
       "      <td>True</td>\n",
       "      <td>True</td>\n",
       "      <td>False</td>\n",
       "      <td>True</td>\n",
       "    </tr>\n",
       "    <tr>\n",
       "      <th>1063</th>\n",
       "      <td>HT1197_URINARY_TRACT</td>\n",
       "      <td>urinary_tract</td>\n",
       "      <td>HT-1197</td>\n",
       "      <td>True</td>\n",
       "      <td>False</td>\n",
       "      <td>False</td>\n",
       "      <td>True</td>\n",
       "    </tr>\n",
       "    <tr>\n",
       "      <th>1064</th>\n",
       "      <td>RT11284_URINARY_TRACT</td>\n",
       "      <td>urinary_tract</td>\n",
       "      <td>RT112/84</td>\n",
       "      <td>False</td>\n",
       "      <td>False</td>\n",
       "      <td>False</td>\n",
       "      <td>True</td>\n",
       "    </tr>\n",
       "  </tbody>\n",
       "</table>\n",
       "<p>1065 rows × 7 columns</p>\n",
       "</div>"
      ],
      "text/plain": [
       "                   Sample_Name             tissue cell_line  RNA-Seq    WGS  \\\n",
       "0     CHP126_AUTONOMIC_GANGLIA  autonomic_ganglia   CHP-126     True  False   \n",
       "1      SKNFI_AUTONOMIC_GANGLIA  autonomic_ganglia   SK-N-FI     True  False   \n",
       "2      SKNAS_AUTONOMIC_GANGLIA  autonomic_ganglia   SK-N-AS     True   True   \n",
       "3     SHSY5Y_AUTONOMIC_GANGLIA  autonomic_ganglia   SH-SY5Y    False  False   \n",
       "4        NB1_AUTONOMIC_GANGLIA  autonomic_ganglia      NB-1     True  False   \n",
       "...                        ...                ...       ...      ...    ...   \n",
       "1060        ACCS_URINARY_TRACT      urinary_tract      ACCS    False  False   \n",
       "1061       RT112_URINARY_TRACT      urinary_tract    RT-112     True   True   \n",
       "1062      HT1376_URINARY_TRACT      urinary_tract   HT-1376     True   True   \n",
       "1063      HT1197_URINARY_TRACT      urinary_tract   HT-1197     True  False   \n",
       "1064     RT11284_URINARY_TRACT      urinary_tract  RT112/84    False  False   \n",
       "\n",
       "        WXS  DNA_AffyMtrx  \n",
       "0     False          True  \n",
       "1     False          True  \n",
       "2     False          True  \n",
       "3     False          True  \n",
       "4      True          True  \n",
       "...     ...           ...  \n",
       "1060  False         False  \n",
       "1061  False          True  \n",
       "1062  False          True  \n",
       "1063  False          True  \n",
       "1064  False          True  \n",
       "\n",
       "[1065 rows x 7 columns]"
      ]
     },
     "execution_count": 40,
     "metadata": {},
     "output_type": "execute_result"
    }
   ],
   "source": [
    "table_sampleName2Print"
   ]
  },
  {
   "cell_type": "code",
   "execution_count": 41,
   "id": "0dece631-2bd1-4260-952c-9c99291462ed",
   "metadata": {
    "id": "0dece631-2bd1-4260-952c-9c99291462ed"
   },
   "outputs": [],
   "source": [
    "df_4Waffles=table_sampleName_1.groupby(\"tissue\").size()"
   ]
  },
  {
   "cell_type": "code",
   "execution_count": 42,
   "id": "1123f23c",
   "metadata": {
    "id": "1123f23c"
   },
   "outputs": [],
   "source": [
    "df_4waffle_table=df_4Waffles.to_frame().reset_index()\n",
    "df_4waffle_table=df_4waffle_table.set_axis([\"tissue\",\"samples_tot\"], axis=1)\n",
    "df_4waffle_table=df_4waffle_table.sort_values(\"samples_tot\",ascending=False)\n",
    "df_4waffle_table[\"RnaSeq_count\"]= df_4waffle_table[\"tissue\"].apply(lambda x: count_libStrategy_byTissue('RNA-Seq',x,table_sampleName_1) )\n",
    "df_4waffle_table[\"WGS_count\"]= df_4waffle_table[\"tissue\"].apply(lambda x: count_libStrategy_byTissue('WGS',x,table_sampleName_1))\n",
    "df_4waffle_table[\"WXS_count\"]= df_4waffle_table[\"tissue\"].apply(lambda x: count_libStrategy_byTissue('WXS',x,table_sampleName_1))\n",
    "df_4waffle_table[\"RnaSeq+WGS+WXS\"]= df_4waffle_table[\"tissue\"].apply(lambda x: count_libStrategy_byTissue(\"RnaSeq+WGS+WXS\",x,table_sampleName_1))\n",
    "df_4waffle_table[\"RnaSeq_only\"]= df_4waffle_table[\"tissue\"].apply(lambda x: count_libStrategy_byTissue(\"RnaSeq_only\",x,table_sampleName_1))\n",
    "df_4waffle_table[\"DNA_AffyMtrx\"]=df_4waffle_table[\"tissue\"].apply(lambda x: count_libStrategy_byTissue(\"DNA_AffyMtrx\",x,table_sampleName_1))\n",
    "df_4waffle_table[\"RnaSeq+W*S+DNAffy\"]=df_4waffle_table[\"tissue\"].apply(lambda x: count_libStrategy_byTissue(\"RnaSeq+W*S+DNAffy\",x,table_sampleName_1))\n"
   ]
  },
  {
   "cell_type": "code",
   "execution_count": 43,
   "id": "4d8e010e-a5ef-460b-807c-9ac96bd97a11",
   "metadata": {
    "id": "4d8e010e-a5ef-460b-807c-9ac96bd97a11"
   },
   "outputs": [],
   "source": [
    "df_4waffle_table2print=df_4waffle_table.copy()\n",
    "def absPercString(num1,num2):\n",
    "    tmp = 100*num1/num2\n",
    "    return \"{} [{:.2f}%]\".format(num1,tmp)\n",
    "df_4waffle_table2print[\"RnaSeq_count\"]=df_4waffle_table2print.apply(lambda x: absPercString(x[\"RnaSeq_count\"],x[\"samples_tot\"]),axis=1)\n",
    "df_4waffle_table2print[\"WGS_count\"]=df_4waffle_table2print.apply(lambda x: absPercString(x[\"WGS_count\"],x[\"samples_tot\"]),axis=1)\n",
    "df_4waffle_table2print[\"WXS_count\"]=df_4waffle_table2print.apply(lambda x: absPercString(x[\"WXS_count\"],x[\"samples_tot\"]),axis=1)\n",
    "df_4waffle_table2print[\"DNA_AffyMtrx\"]=df_4waffle_table2print.apply(lambda x: absPercString(x[\"DNA_AffyMtrx\"],x[\"samples_tot\"]),axis=1)"
   ]
  },
  {
   "cell_type": "code",
   "execution_count": 44,
   "id": "0d3345fd-ac5c-48a7-9aff-c146dfbe9047",
   "metadata": {
    "id": "0d3345fd-ac5c-48a7-9aff-c146dfbe9047"
   },
   "outputs": [],
   "source": [
    "tmp_list=list(df_4waffle_table.agg({\"samples_tot\":\"sum\",\"RnaSeq_count\":\"sum\",\"WGS_count\":\"sum\",\"WXS_count\":\"sum\",\"RnaSeq+WGS+WXS\":\"sum\",\"RnaSeq_only\":\"sum\",\"DNA_AffyMtrx\":\"sum\",\"RnaSeq+W*S+DNAffy\":\"sum\"}))"
   ]
  },
  {
   "cell_type": "code",
   "execution_count": 45,
   "id": "150dea60",
   "metadata": {
    "id": "150dea60"
   },
   "outputs": [],
   "source": [
    "df_4waffle_table2print.loc[len(df_4waffle_table2print.index)]=[\"sum\"]+tmp_list"
   ]
  },
  {
   "cell_type": "code",
   "execution_count": 46,
   "id": "8d99f1b1",
   "metadata": {
    "id": "8d99f1b1",
    "outputId": "822d39b3-2e13-41e8-a18e-a6dc67e516d2",
    "scrolled": true
   },
   "outputs": [],
   "source": [
    "nw_order=['tissue', 'samples_tot', 'RnaSeq_count', 'WGS_count', 'WXS_count','DNA_AffyMtrx', 'RnaSeq+WGS+WXS', 'RnaSeq_only', 'RnaSeq+W*S+DNAffy']\n",
    "df_4waffle_table2print_=df_4waffle_table2print.reindex(nw_order,axis=1)"
   ]
  },
  {
   "cell_type": "code",
   "execution_count": 47,
   "id": "7917d1bf",
   "metadata": {
    "id": "7917d1bf"
   },
   "outputs": [],
   "source": [
    "df_4waffle_table2print_.tissue=[\"Lung\",\"Haematopoietic and lymphoid tissue\",\"Central nervous system\",\"Skin\",\"Largeintestine\",\"Breast\",\"Ovary\",\"Pancreas\",\"Stomach\",\"Upper aerodigestive tract\",\"Kidney\",\"Soft tissue\",\"Bone\",\"Urinary tract\",\"Endometrium\",\"Oesophagus\",\"Liver\",\"Autonomic ganglia\",\"Thyroid\",\"Pleura\",\"Prostate\",\"Biliary tract\",\"Salivary gland\",\"Cervix\",\"Small Intestine\",\"Sum\"]"
   ]
  },
  {
   "cell_type": "code",
   "execution_count": 48,
   "id": "23e9cbea-ad93-4c98-bc32-1a5b7ff3e50f",
   "metadata": {
    "collapsed": true,
    "jupyter": {
     "outputs_hidden": true
    }
   },
   "outputs": [
    {
     "data": {
      "text/html": [
       "<div>\n",
       "<style scoped>\n",
       "    .dataframe tbody tr th:only-of-type {\n",
       "        vertical-align: middle;\n",
       "    }\n",
       "\n",
       "    .dataframe tbody tr th {\n",
       "        vertical-align: top;\n",
       "    }\n",
       "\n",
       "    .dataframe thead th {\n",
       "        text-align: right;\n",
       "    }\n",
       "</style>\n",
       "<table border=\"1\" class=\"dataframe\">\n",
       "  <thead>\n",
       "    <tr style=\"text-align: right;\">\n",
       "      <th></th>\n",
       "      <th>tissue</th>\n",
       "      <th>samples_tot</th>\n",
       "      <th>RnaSeq_count</th>\n",
       "      <th>WGS_count</th>\n",
       "      <th>WXS_count</th>\n",
       "      <th>DNA_AffyMtrx</th>\n",
       "      <th>RnaSeq+WGS+WXS</th>\n",
       "      <th>RnaSeq_only</th>\n",
       "      <th>RnaSeq+W*S+DNAffy</th>\n",
       "    </tr>\n",
       "  </thead>\n",
       "  <tbody>\n",
       "    <tr>\n",
       "      <th>11</th>\n",
       "      <td>Lung</td>\n",
       "      <td>199</td>\n",
       "      <td>192 [96.48%]</td>\n",
       "      <td>98 [49.25%]</td>\n",
       "      <td>33 [16.58%]</td>\n",
       "      <td>178 [89.45%]</td>\n",
       "      <td>14</td>\n",
       "      <td>75</td>\n",
       "      <td>14</td>\n",
       "    </tr>\n",
       "    <tr>\n",
       "      <th>7</th>\n",
       "      <td>Haematopoietic and lymphoid tissue</td>\n",
       "      <td>188</td>\n",
       "      <td>176 [93.62%]</td>\n",
       "      <td>14 [7.45%]</td>\n",
       "      <td>89 [47.34%]</td>\n",
       "      <td>180 [95.74%]</td>\n",
       "      <td>2</td>\n",
       "      <td>78</td>\n",
       "      <td>2</td>\n",
       "    </tr>\n",
       "    <tr>\n",
       "      <th>4</th>\n",
       "      <td>Central nervous system</td>\n",
       "      <td>70</td>\n",
       "      <td>66 [94.29%]</td>\n",
       "      <td>15 [21.43%]</td>\n",
       "      <td>12 [17.14%]</td>\n",
       "      <td>64 [91.43%]</td>\n",
       "      <td>1</td>\n",
       "      <td>40</td>\n",
       "      <td>1</td>\n",
       "    </tr>\n",
       "    <tr>\n",
       "      <th>18</th>\n",
       "      <td>Skin</td>\n",
       "      <td>61</td>\n",
       "      <td>56 [91.80%]</td>\n",
       "      <td>19 [31.15%]</td>\n",
       "      <td>17 [27.87%]</td>\n",
       "      <td>53 [86.89%]</td>\n",
       "      <td>0</td>\n",
       "      <td>21</td>\n",
       "      <td>0</td>\n",
       "    </tr>\n",
       "    <tr>\n",
       "      <th>9</th>\n",
       "      <td>Largeintestine</td>\n",
       "      <td>61</td>\n",
       "      <td>59 [96.72%]</td>\n",
       "      <td>23 [37.70%]</td>\n",
       "      <td>16 [26.23%]</td>\n",
       "      <td>56 [91.80%]</td>\n",
       "      <td>3</td>\n",
       "      <td>23</td>\n",
       "      <td>2</td>\n",
       "    </tr>\n",
       "    <tr>\n",
       "      <th>3</th>\n",
       "      <td>Breast</td>\n",
       "      <td>58</td>\n",
       "      <td>57 [98.28%]</td>\n",
       "      <td>35 [60.34%]</td>\n",
       "      <td>12 [20.69%]</td>\n",
       "      <td>52 [89.66%]</td>\n",
       "      <td>1</td>\n",
       "      <td>11</td>\n",
       "      <td>1</td>\n",
       "    </tr>\n",
       "    <tr>\n",
       "      <th>13</th>\n",
       "      <td>Ovary</td>\n",
       "      <td>53</td>\n",
       "      <td>47 [88.68%]</td>\n",
       "      <td>23 [43.40%]</td>\n",
       "      <td>16 [30.19%]</td>\n",
       "      <td>53 [100.00%]</td>\n",
       "      <td>3</td>\n",
       "      <td>13</td>\n",
       "      <td>3</td>\n",
       "    </tr>\n",
       "    <tr>\n",
       "      <th>14</th>\n",
       "      <td>Pancreas</td>\n",
       "      <td>43</td>\n",
       "      <td>41 [95.35%]</td>\n",
       "      <td>11 [25.58%]</td>\n",
       "      <td>16 [37.21%]</td>\n",
       "      <td>41 [95.35%]</td>\n",
       "      <td>0</td>\n",
       "      <td>14</td>\n",
       "      <td>0</td>\n",
       "    </tr>\n",
       "    <tr>\n",
       "      <th>21</th>\n",
       "      <td>Stomach</td>\n",
       "      <td>37</td>\n",
       "      <td>37 [100.00%]</td>\n",
       "      <td>21 [56.76%]</td>\n",
       "      <td>16 [43.24%]</td>\n",
       "      <td>37 [100.00%]</td>\n",
       "      <td>4</td>\n",
       "      <td>4</td>\n",
       "      <td>4</td>\n",
       "    </tr>\n",
       "    <tr>\n",
       "      <th>23</th>\n",
       "      <td>Upper aerodigestive tract</td>\n",
       "      <td>32</td>\n",
       "      <td>32 [100.00%]</td>\n",
       "      <td>6 [18.75%]</td>\n",
       "      <td>18 [56.25%]</td>\n",
       "      <td>29 [90.62%]</td>\n",
       "      <td>0</td>\n",
       "      <td>8</td>\n",
       "      <td>0</td>\n",
       "    </tr>\n",
       "    <tr>\n",
       "      <th>8</th>\n",
       "      <td>Kidney</td>\n",
       "      <td>32</td>\n",
       "      <td>32 [100.00%]</td>\n",
       "      <td>8 [25.00%]</td>\n",
       "      <td>8 [25.00%]</td>\n",
       "      <td>31 [96.88%]</td>\n",
       "      <td>0</td>\n",
       "      <td>16</td>\n",
       "      <td>0</td>\n",
       "    </tr>\n",
       "    <tr>\n",
       "      <th>20</th>\n",
       "      <td>Soft tissue</td>\n",
       "      <td>32</td>\n",
       "      <td>31 [96.88%]</td>\n",
       "      <td>7 [21.88%]</td>\n",
       "      <td>5 [15.62%]</td>\n",
       "      <td>18 [56.25%]</td>\n",
       "      <td>1</td>\n",
       "      <td>20</td>\n",
       "      <td>1</td>\n",
       "    </tr>\n",
       "    <tr>\n",
       "      <th>2</th>\n",
       "      <td>Bone</td>\n",
       "      <td>29</td>\n",
       "      <td>28 [96.55%]</td>\n",
       "      <td>1 [3.45%]</td>\n",
       "      <td>9 [31.03%]</td>\n",
       "      <td>18 [62.07%]</td>\n",
       "      <td>0</td>\n",
       "      <td>18</td>\n",
       "      <td>0</td>\n",
       "    </tr>\n",
       "    <tr>\n",
       "      <th>24</th>\n",
       "      <td>Urinary tract</td>\n",
       "      <td>28</td>\n",
       "      <td>26 [92.86%]</td>\n",
       "      <td>7 [25.00%]</td>\n",
       "      <td>6 [21.43%]</td>\n",
       "      <td>24 [85.71%]</td>\n",
       "      <td>0</td>\n",
       "      <td>13</td>\n",
       "      <td>0</td>\n",
       "    </tr>\n",
       "    <tr>\n",
       "      <th>6</th>\n",
       "      <td>Endometrium</td>\n",
       "      <td>28</td>\n",
       "      <td>28 [100.00%]</td>\n",
       "      <td>11 [39.29%]</td>\n",
       "      <td>17 [60.71%]</td>\n",
       "      <td>28 [100.00%]</td>\n",
       "      <td>3</td>\n",
       "      <td>3</td>\n",
       "      <td>3</td>\n",
       "    </tr>\n",
       "    <tr>\n",
       "      <th>12</th>\n",
       "      <td>Oesophagus</td>\n",
       "      <td>27</td>\n",
       "      <td>27 [100.00%]</td>\n",
       "      <td>10 [37.04%]</td>\n",
       "      <td>3 [11.11%]</td>\n",
       "      <td>27 [100.00%]</td>\n",
       "      <td>1</td>\n",
       "      <td>15</td>\n",
       "      <td>1</td>\n",
       "    </tr>\n",
       "    <tr>\n",
       "      <th>10</th>\n",
       "      <td>Liver</td>\n",
       "      <td>26</td>\n",
       "      <td>25 [96.15%]</td>\n",
       "      <td>10 [38.46%]</td>\n",
       "      <td>10 [38.46%]</td>\n",
       "      <td>26 [100.00%]</td>\n",
       "      <td>1</td>\n",
       "      <td>6</td>\n",
       "      <td>1</td>\n",
       "    </tr>\n",
       "    <tr>\n",
       "      <th>0</th>\n",
       "      <td>Autonomic ganglia</td>\n",
       "      <td>17</td>\n",
       "      <td>16 [94.12%]</td>\n",
       "      <td>2 [11.76%]</td>\n",
       "      <td>5 [29.41%]</td>\n",
       "      <td>17 [100.00%]</td>\n",
       "      <td>0</td>\n",
       "      <td>9</td>\n",
       "      <td>0</td>\n",
       "    </tr>\n",
       "    <tr>\n",
       "      <th>22</th>\n",
       "      <td>Thyroid</td>\n",
       "      <td>12</td>\n",
       "      <td>11 [91.67%]</td>\n",
       "      <td>2 [16.67%]</td>\n",
       "      <td>3 [25.00%]</td>\n",
       "      <td>12 [100.00%]</td>\n",
       "      <td>1</td>\n",
       "      <td>7</td>\n",
       "      <td>1</td>\n",
       "    </tr>\n",
       "    <tr>\n",
       "      <th>15</th>\n",
       "      <td>Pleura</td>\n",
       "      <td>11</td>\n",
       "      <td>11 [100.00%]</td>\n",
       "      <td>2 [18.18%]</td>\n",
       "      <td>4 [36.36%]</td>\n",
       "      <td>9 [81.82%]</td>\n",
       "      <td>0</td>\n",
       "      <td>5</td>\n",
       "      <td>0</td>\n",
       "    </tr>\n",
       "    <tr>\n",
       "      <th>16</th>\n",
       "      <td>Prostate</td>\n",
       "      <td>8</td>\n",
       "      <td>8 [100.00%]</td>\n",
       "      <td>3 [37.50%]</td>\n",
       "      <td>4 [50.00%]</td>\n",
       "      <td>8 [100.00%]</td>\n",
       "      <td>1</td>\n",
       "      <td>2</td>\n",
       "      <td>1</td>\n",
       "    </tr>\n",
       "    <tr>\n",
       "      <th>1</th>\n",
       "      <td>Biliary tract</td>\n",
       "      <td>8</td>\n",
       "      <td>8 [100.00%]</td>\n",
       "      <td>0 [0.00%]</td>\n",
       "      <td>7 [87.50%]</td>\n",
       "      <td>8 [100.00%]</td>\n",
       "      <td>0</td>\n",
       "      <td>1</td>\n",
       "      <td>0</td>\n",
       "    </tr>\n",
       "    <tr>\n",
       "      <th>17</th>\n",
       "      <td>Salivary gland</td>\n",
       "      <td>2</td>\n",
       "      <td>2 [100.00%]</td>\n",
       "      <td>0 [0.00%]</td>\n",
       "      <td>0 [0.00%]</td>\n",
       "      <td>2 [100.00%]</td>\n",
       "      <td>0</td>\n",
       "      <td>2</td>\n",
       "      <td>0</td>\n",
       "    </tr>\n",
       "    <tr>\n",
       "      <th>5</th>\n",
       "      <td>Cervix</td>\n",
       "      <td>2</td>\n",
       "      <td>2 [100.00%]</td>\n",
       "      <td>0 [0.00%]</td>\n",
       "      <td>0 [0.00%]</td>\n",
       "      <td>0 [0.00%]</td>\n",
       "      <td>0</td>\n",
       "      <td>2</td>\n",
       "      <td>0</td>\n",
       "    </tr>\n",
       "    <tr>\n",
       "      <th>19</th>\n",
       "      <td>Small Intestine</td>\n",
       "      <td>1</td>\n",
       "      <td>1 [100.00%]</td>\n",
       "      <td>1 [100.00%]</td>\n",
       "      <td>0 [0.00%]</td>\n",
       "      <td>1 [100.00%]</td>\n",
       "      <td>0</td>\n",
       "      <td>0</td>\n",
       "      <td>0</td>\n",
       "    </tr>\n",
       "    <tr>\n",
       "      <th>25</th>\n",
       "      <td>Sum</td>\n",
       "      <td>1065</td>\n",
       "      <td>1019</td>\n",
       "      <td>329</td>\n",
       "      <td>326</td>\n",
       "      <td>972</td>\n",
       "      <td>36</td>\n",
       "      <td>406</td>\n",
       "      <td>35</td>\n",
       "    </tr>\n",
       "  </tbody>\n",
       "</table>\n",
       "</div>"
      ],
      "text/plain": [
       "                                tissue  samples_tot  RnaSeq_count  \\\n",
       "11                                Lung          199  192 [96.48%]   \n",
       "7   Haematopoietic and lymphoid tissue          188  176 [93.62%]   \n",
       "4               Central nervous system           70   66 [94.29%]   \n",
       "18                                Skin           61   56 [91.80%]   \n",
       "9                       Largeintestine           61   59 [96.72%]   \n",
       "3                               Breast           58   57 [98.28%]   \n",
       "13                               Ovary           53   47 [88.68%]   \n",
       "14                            Pancreas           43   41 [95.35%]   \n",
       "21                             Stomach           37  37 [100.00%]   \n",
       "23           Upper aerodigestive tract           32  32 [100.00%]   \n",
       "8                               Kidney           32  32 [100.00%]   \n",
       "20                         Soft tissue           32   31 [96.88%]   \n",
       "2                                 Bone           29   28 [96.55%]   \n",
       "24                       Urinary tract           28   26 [92.86%]   \n",
       "6                          Endometrium           28  28 [100.00%]   \n",
       "12                          Oesophagus           27  27 [100.00%]   \n",
       "10                               Liver           26   25 [96.15%]   \n",
       "0                    Autonomic ganglia           17   16 [94.12%]   \n",
       "22                             Thyroid           12   11 [91.67%]   \n",
       "15                              Pleura           11  11 [100.00%]   \n",
       "16                            Prostate            8   8 [100.00%]   \n",
       "1                        Biliary tract            8   8 [100.00%]   \n",
       "17                      Salivary gland            2   2 [100.00%]   \n",
       "5                               Cervix            2   2 [100.00%]   \n",
       "19                     Small Intestine            1   1 [100.00%]   \n",
       "25                                 Sum         1065          1019   \n",
       "\n",
       "      WGS_count    WXS_count  DNA_AffyMtrx  RnaSeq+WGS+WXS  RnaSeq_only  \\\n",
       "11  98 [49.25%]  33 [16.58%]  178 [89.45%]              14           75   \n",
       "7    14 [7.45%]  89 [47.34%]  180 [95.74%]               2           78   \n",
       "4   15 [21.43%]  12 [17.14%]   64 [91.43%]               1           40   \n",
       "18  19 [31.15%]  17 [27.87%]   53 [86.89%]               0           21   \n",
       "9   23 [37.70%]  16 [26.23%]   56 [91.80%]               3           23   \n",
       "3   35 [60.34%]  12 [20.69%]   52 [89.66%]               1           11   \n",
       "13  23 [43.40%]  16 [30.19%]  53 [100.00%]               3           13   \n",
       "14  11 [25.58%]  16 [37.21%]   41 [95.35%]               0           14   \n",
       "21  21 [56.76%]  16 [43.24%]  37 [100.00%]               4            4   \n",
       "23   6 [18.75%]  18 [56.25%]   29 [90.62%]               0            8   \n",
       "8    8 [25.00%]   8 [25.00%]   31 [96.88%]               0           16   \n",
       "20   7 [21.88%]   5 [15.62%]   18 [56.25%]               1           20   \n",
       "2     1 [3.45%]   9 [31.03%]   18 [62.07%]               0           18   \n",
       "24   7 [25.00%]   6 [21.43%]   24 [85.71%]               0           13   \n",
       "6   11 [39.29%]  17 [60.71%]  28 [100.00%]               3            3   \n",
       "12  10 [37.04%]   3 [11.11%]  27 [100.00%]               1           15   \n",
       "10  10 [38.46%]  10 [38.46%]  26 [100.00%]               1            6   \n",
       "0    2 [11.76%]   5 [29.41%]  17 [100.00%]               0            9   \n",
       "22   2 [16.67%]   3 [25.00%]  12 [100.00%]               1            7   \n",
       "15   2 [18.18%]   4 [36.36%]    9 [81.82%]               0            5   \n",
       "16   3 [37.50%]   4 [50.00%]   8 [100.00%]               1            2   \n",
       "1     0 [0.00%]   7 [87.50%]   8 [100.00%]               0            1   \n",
       "17    0 [0.00%]    0 [0.00%]   2 [100.00%]               0            2   \n",
       "5     0 [0.00%]    0 [0.00%]     0 [0.00%]               0            2   \n",
       "19  1 [100.00%]    0 [0.00%]   1 [100.00%]               0            0   \n",
       "25          329          326           972              36          406   \n",
       "\n",
       "    RnaSeq+W*S+DNAffy  \n",
       "11                 14  \n",
       "7                   2  \n",
       "4                   1  \n",
       "18                  0  \n",
       "9                   2  \n",
       "3                   1  \n",
       "13                  3  \n",
       "14                  0  \n",
       "21                  4  \n",
       "23                  0  \n",
       "8                   0  \n",
       "20                  1  \n",
       "2                   0  \n",
       "24                  0  \n",
       "6                   3  \n",
       "12                  1  \n",
       "10                  1  \n",
       "0                   0  \n",
       "22                  1  \n",
       "15                  0  \n",
       "16                  1  \n",
       "1                   0  \n",
       "17                  0  \n",
       "5                   0  \n",
       "19                  0  \n",
       "25                 35  "
      ]
     },
     "execution_count": 48,
     "metadata": {},
     "output_type": "execute_result"
    }
   ],
   "source": [
    "df_4waffle_table2print_"
   ]
  },
  {
   "cell_type": "markdown",
   "id": "86202316",
   "metadata": {},
   "source": [
    "# Get Download List- for Cell Line with complete set of data"
   ]
  },
  {
   "cell_type": "code",
   "execution_count": 37,
   "id": "04a59201",
   "metadata": {},
   "outputs": [],
   "source": [
    "df_complete2Download=table_sampleName_1[table_sampleName_1[\"RnaSeq+W*S+DNAffy\"]]"
   ]
  },
  {
   "cell_type": "code",
   "execution_count": 38,
   "id": "8a7e8d02",
   "metadata": {
    "scrolled": true
   },
   "outputs": [],
   "source": [
    "df_complete2Download=df_complete2Download.drop(\"tmp\",axis=1)"
   ]
  },
  {
   "cell_type": "markdown",
   "id": "6b2cb770",
   "metadata": {},
   "source": [
    "## Short"
   ]
  },
  {
   "cell_type": "code",
   "execution_count": 43,
   "id": "a46fe2ec",
   "metadata": {},
   "outputs": [],
   "source": [
    "df_complete2Download_short=df_complete2Download.groupby(\"tissue\").first()"
   ]
  },
  {
   "cell_type": "code",
   "execution_count": 44,
   "id": "70a9ffc3-c607-4b76-8fa5-d1f7818d066b",
   "metadata": {},
   "outputs": [],
   "source": [
    "list2Drop= list(df_complete2Download_short[\"Sample_ID\"].values)"
   ]
  },
  {
   "cell_type": "code",
   "execution_count": 45,
   "id": "f7b9c539-fb5f-4bfe-a053-1973a33c0a8f",
   "metadata": {},
   "outputs": [],
   "source": [
    "df_complete2Download_2nd=df_complete2Download[~df_complete2Download.Sample_ID.isin(list2Drop)]"
   ]
  },
  {
   "cell_type": "code",
   "execution_count": 46,
   "id": "c86b8cb3-812b-4ab8-ad36-62977dc90898",
   "metadata": {},
   "outputs": [],
   "source": [
    "list2Drop2= list(df_complete2Download_2nd[\"Sample_ID\"].values)"
   ]
  },
  {
   "cell_type": "code",
   "execution_count": 47,
   "id": "7d542c9d-a14f-43b0-b07e-602656589183",
   "metadata": {},
   "outputs": [
    {
     "data": {
      "text/plain": [
       "(22, 16)"
      ]
     },
     "execution_count": 47,
     "metadata": {},
     "output_type": "execute_result"
    }
   ],
   "source": [
    "df_complete2Download_2nd.shape"
   ]
  },
  {
   "cell_type": "code",
   "execution_count": 74,
   "id": "6f4dca75",
   "metadata": {},
   "outputs": [],
   "source": [
    "filename = \"short_RNA-Seq.txt\"\n",
    "tmp=[\"\",\"\"]\n",
    "with open(filename, \"w\") as f:\n",
    "    for idx,item in df_complete2Download_2nd.iterrows():\n",
    "        tmp=item[\"Sample_Name\"].split(\"_\")\n",
    "        #f.write(\"https://sra-pub-run-odp.s3.amazonaws.com/sra/\"+item[\"SRR_RNA-Seq\"]+\"/\"+item[\"SRR_RNA-Seq\"]+\"\\t\"+tmp[0]+\"_\"+tmp[1].lower())\n",
    "        f.write(item[\"SRR_RNA-Seq\"]+\"\\t\"+tmp[0]+\"_\"+tmp[1].lower())\n",
    "        f.write(\"\\n\")\n",
    "\n",
    "\n",
    "filename = \"short_WGS.txt\"\n",
    "tmp=[\"\",\"\"]\n",
    "with open(filename, \"w\") as f:\n",
    "    for idx,item in df_complete2Download_2nd.iterrows():\n",
    "        tmp=item[\"Sample_Name\"].split(\"_\")\n",
    "        #f.write(\"https://sra-pub-run-odp.s3.amazonaws.com/sra/\"+item[\"SRR_WGS\"]+\"/\"+item[\"SRR_WGS\"]+\"\\t\"+tmp[0]+\"_\"+tmp[1].lower())\n",
    "        f.write(item[\"SRR_WGS\"]+\"\\t\"+tmp[0]+\"_\"+tmp[1].lower())\n",
    "        f.write(\"\\n\")\n",
    "\n",
    "filename = \"short_WXS.txt\"\n",
    "tmp=[\"\",\"\"]\n",
    "with open(filename, \"w\") as f:\n",
    "    for idx,item in df_complete2Download_2nd.iterrows():\n",
    "        tmp=item[\"Sample_Name\"].split(\"_\")\n",
    "        #f.write(\"https://sra-pub-run-odp.s3.amazonaws.com/sra/\"+item[\"SRR_WXS\"]+\"/\"+item[\"SRR_WXS\"]+\"\\t\"+tmp[0]+\"_\"+tmp[1].lower())\n",
    "        f.write(item[\"SRR_WXS\"]+\"\\t\"+tmp[0]+\"_\"+tmp[1].lower())\n",
    "        f.write(\"\\n\")\n"
   ]
  },
  {
   "cell_type": "code",
   "execution_count": 48,
   "id": "cb8d3d93",
   "metadata": {},
   "outputs": [],
   "source": [
    "\n",
    "dfi.export(df_complete2Download_short.style.pipe(make_pretty),\"short_list.png\")"
   ]
  },
  {
   "cell_type": "markdown",
   "id": "0521ca71-cd3a-4ec7-9dc9-1dc9c349e545",
   "metadata": {
    "jp-MarkdownHeadingCollapsed": true
   },
   "source": [
    "## ALL RNA"
   ]
  },
  {
   "cell_type": "code",
   "execution_count": 54,
   "id": "077ab5a8-ca61-4acb-8380-3e6f029ced7a",
   "metadata": {},
   "outputs": [],
   "source": [
    "df_allRNA2Download=table_sampleName_1[table_sampleName_1[\"RNA-Seq\"]]"
   ]
  },
  {
   "cell_type": "code",
   "execution_count": 56,
   "id": "2d033c9f-1aac-4d12-870d-6465fe87604a",
   "metadata": {},
   "outputs": [
    {
     "data": {
      "text/plain": [
       "(1019, 17)"
      ]
     },
     "execution_count": 56,
     "metadata": {},
     "output_type": "execute_result"
    }
   ],
   "source": [
    "df_allRNA2Download.shape"
   ]
  },
  {
   "cell_type": "code",
   "execution_count": 61,
   "id": "f288603f-c3aa-4b18-9369-1b826a979838",
   "metadata": {},
   "outputs": [],
   "source": [
    "df_allRNA2Download=df_allRNA2Download[~df_allRNA2Download.Sample_ID.isin(list2Drop)]"
   ]
  },
  {
   "cell_type": "code",
   "execution_count": 62,
   "id": "dbafc0c5-275b-4094-8bfb-90b35382af8b",
   "metadata": {},
   "outputs": [
    {
     "data": {
      "text/plain": [
       "(1006, 17)"
      ]
     },
     "execution_count": 62,
     "metadata": {},
     "output_type": "execute_result"
    }
   ],
   "source": [
    "df_allRNA2Download.shape"
   ]
  },
  {
   "cell_type": "code",
   "execution_count": 66,
   "id": "f3d98865-cfe0-4a25-b9f4-8f8501043613",
   "metadata": {},
   "outputs": [],
   "source": [
    "df_allRNA2Download=df_allRNA2Download[~df_allRNA2Download.Sample_ID.isin(list2Drop2)]"
   ]
  },
  {
   "cell_type": "code",
   "execution_count": 67,
   "id": "8eeadce3-1a46-4e32-bcce-d7bddc63f8b0",
   "metadata": {},
   "outputs": [
    {
     "data": {
      "text/plain": [
       "(984, 17)"
      ]
     },
     "execution_count": 67,
     "metadata": {},
     "output_type": "execute_result"
    }
   ],
   "source": [
    "df_allRNA2Download.shape"
   ]
  },
  {
   "cell_type": "code",
   "execution_count": 69,
   "id": "0d4c3ade-292d-4e57-bee7-f0b31bee4b92",
   "metadata": {},
   "outputs": [],
   "source": [
    "filename = \"short_RNA-Seq.txt\"\n",
    "tmp=[\"\",\"\"]\n",
    "with open(filename, \"w\") as f:\n",
    "    for idx,item in df_allRNA2Download.iterrows():\n",
    "        tmp=item[\"Sample_Name\"].split(\"_\")\n",
    "        #f.write(\"https://sra-pub-run-odp.s3.amazonaws.com/sra/\"+item[\"SRR_RNA-Seq\"]+\"/\"+item[\"SRR_RNA-Seq\"]+\"\\t\"+tmp[0]+\"_\"+tmp[1].lower())\n",
    "        f.write(item[\"SRR_RNA-Seq\"]+\"\\t\"+tmp[0]+\"_\"+tmp[1].lower())\n",
    "        f.write(\"\\n\")\n",
    "\n",
    "\n"
   ]
  },
  {
   "cell_type": "markdown",
   "id": "17b1dc81-3b13-4d1d-8ed1-f5a769351967",
   "metadata": {
    "jp-MarkdownHeadingCollapsed": true
   },
   "source": [
    "## ALL WXS"
   ]
  },
  {
   "cell_type": "code",
   "execution_count": 44,
   "id": "fd43127d-0a2d-4f85-8307-4ea2c5f52571",
   "metadata": {},
   "outputs": [],
   "source": [
    "df_allWXS2Download=table_sampleName_1[table_sampleName_1[\"WXS\"]]"
   ]
  },
  {
   "cell_type": "code",
   "execution_count": 49,
   "id": "6766bbf7-fd72-47ea-adc7-92c732679481",
   "metadata": {},
   "outputs": [],
   "source": [
    "df_allWXS2Download=df_allWXS2Download[~df_allWXS2Download.Sample_ID.isin(list2Drop)]"
   ]
  },
  {
   "cell_type": "code",
   "execution_count": 50,
   "id": "148c24ab-a50a-43a5-8ca0-c8590eb4933b",
   "metadata": {},
   "outputs": [
    {
     "data": {
      "text/plain": [
       "(313, 17)"
      ]
     },
     "execution_count": 50,
     "metadata": {},
     "output_type": "execute_result"
    }
   ],
   "source": [
    "df_allWXS2Download.shape"
   ]
  },
  {
   "cell_type": "code",
   "execution_count": 51,
   "id": "b3859902-d1f4-4438-b725-19a23bd30d5b",
   "metadata": {},
   "outputs": [],
   "source": [
    "filename = \"short_WXS.txt\"\n",
    "tmp=[\"\",\"\"]\n",
    "with open(filename, \"w\") as f:\n",
    "    for idx,item in df_allWXS2Download.iterrows():\n",
    "        tmp=item[\"Sample_Name\"].split(\"_\")\n",
    "        #f.write(\"https://sra-pub-run-odp.s3.amazonaws.com/sra/\"+item[\"SRR_WXS\"]+\"/\"+item[\"SRR_WXS\"]+\"\\t\"+tmp[0]+\"_\"+tmp[1].lower())\n",
    "        f.write(item[\"SRR_WXS\"]+\"\\t\"+tmp[0]+\"_\"+tmp[1].lower())\n",
    "        f.write(\"\\n\")\n"
   ]
  },
  {
   "cell_type": "markdown",
   "id": "b9e66101-cf99-4650-8105-44154d4439a9",
   "metadata": {},
   "source": [
    "## ALL WGS"
   ]
  },
  {
   "cell_type": "code",
   "execution_count": 48,
   "id": "62b00118-93af-43e3-b52c-d196cba4be80",
   "metadata": {},
   "outputs": [],
   "source": [
    "df_allWGS2Download=table_sampleName_1[table_sampleName_1[\"WGS\"]]"
   ]
  },
  {
   "cell_type": "code",
   "execution_count": 49,
   "id": "343458df-e694-48d7-a12c-6f5a56aec9ec",
   "metadata": {},
   "outputs": [],
   "source": [
    "df_allWGS2Download=df_allWGS2Download[~df_allWGS2Download.Sample_ID.isin(list2Drop)]"
   ]
  },
  {
   "cell_type": "code",
   "execution_count": 53,
   "id": "3d6d9dc4-1b5d-445d-90d1-1b53a60cdba6",
   "metadata": {},
   "outputs": [
    {
     "data": {
      "text/html": [
       "<div>\n",
       "<style scoped>\n",
       "    .dataframe tbody tr th:only-of-type {\n",
       "        vertical-align: middle;\n",
       "    }\n",
       "\n",
       "    .dataframe tbody tr th {\n",
       "        vertical-align: top;\n",
       "    }\n",
       "\n",
       "    .dataframe thead th {\n",
       "        text-align: right;\n",
       "    }\n",
       "</style>\n",
       "<table border=\"1\" class=\"dataframe\">\n",
       "  <thead>\n",
       "    <tr style=\"text-align: right;\">\n",
       "      <th></th>\n",
       "      <th>Unnamed: 0</th>\n",
       "      <th>Sample_ID</th>\n",
       "      <th>tmp</th>\n",
       "      <th>Sample_Name</th>\n",
       "      <th>tissue</th>\n",
       "      <th>cell_line</th>\n",
       "      <th>disease</th>\n",
       "      <th>RNA-Seq</th>\n",
       "      <th>WGS</th>\n",
       "      <th>WXS</th>\n",
       "      <th>RnaSeq+WGS+WXS</th>\n",
       "      <th>RnaSeq_only</th>\n",
       "      <th>DNA_AffyMtrx</th>\n",
       "      <th>RnaSeq+W*S+DNAffy</th>\n",
       "      <th>SRR_RNA-Seq</th>\n",
       "      <th>SRR_WGS</th>\n",
       "      <th>SRR_WXS</th>\n",
       "    </tr>\n",
       "  </thead>\n",
       "  <tbody>\n",
       "    <tr>\n",
       "      <th>22</th>\n",
       "      <td>22</td>\n",
       "      <td>SAMN10988232</td>\n",
       "      <td>LK2_LUNG,lung,LK-2,carcinoma (squamous_cell_ca...</td>\n",
       "      <td>LK2_LUNG</td>\n",
       "      <td>lung</td>\n",
       "      <td>LK-2</td>\n",
       "      <td>carcinoma (squamous_cell_carcinoma)</td>\n",
       "      <td>True</td>\n",
       "      <td>True</td>\n",
       "      <td>False</td>\n",
       "      <td>False</td>\n",
       "      <td>False</td>\n",
       "      <td>True</td>\n",
       "      <td>False</td>\n",
       "      <td>SRR8615840</td>\n",
       "      <td>SRR8652089</td>\n",
       "      <td>none</td>\n",
       "    </tr>\n",
       "    <tr>\n",
       "      <th>33</th>\n",
       "      <td>33</td>\n",
       "      <td>SAMN10987646</td>\n",
       "      <td>SW480_LARGE_INTESTINE,large_intestine,SW480,ca...</td>\n",
       "      <td>SW480_LARGE_INTESTINE</td>\n",
       "      <td>large_intestine</td>\n",
       "      <td>SW480</td>\n",
       "      <td>carcinoma (adenocarcinoma)</td>\n",
       "      <td>True</td>\n",
       "      <td>True</td>\n",
       "      <td>False</td>\n",
       "      <td>False</td>\n",
       "      <td>False</td>\n",
       "      <td>True</td>\n",
       "      <td>False</td>\n",
       "      <td>SRR8616059</td>\n",
       "      <td>SRR8670707</td>\n",
       "      <td>none</td>\n",
       "    </tr>\n",
       "    <tr>\n",
       "      <th>111</th>\n",
       "      <td>111</td>\n",
       "      <td>SAMN10987999</td>\n",
       "      <td>NCIH1105_LUNG,lung,NCI-H1105,carcinoma (small_...</td>\n",
       "      <td>NCIH1105_LUNG</td>\n",
       "      <td>lung</td>\n",
       "      <td>NCI-H1105</td>\n",
       "      <td>carcinoma (small_cell_carcinoma)</td>\n",
       "      <td>True</td>\n",
       "      <td>True</td>\n",
       "      <td>False</td>\n",
       "      <td>False</td>\n",
       "      <td>False</td>\n",
       "      <td>True</td>\n",
       "      <td>False</td>\n",
       "      <td>SRR8615329</td>\n",
       "      <td>SRR8652138</td>\n",
       "      <td>none</td>\n",
       "    </tr>\n",
       "    <tr>\n",
       "      <th>146</th>\n",
       "      <td>146</td>\n",
       "      <td>SAMN10988516</td>\n",
       "      <td>SCLC21H_LUNG,lung,SCLC-21H,carcinoma (small_ce...</td>\n",
       "      <td>SCLC21H_LUNG</td>\n",
       "      <td>lung</td>\n",
       "      <td>SCLC-21H</td>\n",
       "      <td>carcinoma (small_cell_carcinoma)</td>\n",
       "      <td>True</td>\n",
       "      <td>True</td>\n",
       "      <td>False</td>\n",
       "      <td>False</td>\n",
       "      <td>False</td>\n",
       "      <td>True</td>\n",
       "      <td>False</td>\n",
       "      <td>SRR8616096</td>\n",
       "      <td>SRR8670746</td>\n",
       "      <td>none</td>\n",
       "    </tr>\n",
       "    <tr>\n",
       "      <th>154</th>\n",
       "      <td>154</td>\n",
       "      <td>SAMN10988044</td>\n",
       "      <td>HCC1833_LUNG,lung,HCC-1833,carcinoma (adenocar...</td>\n",
       "      <td>HCC1833_LUNG</td>\n",
       "      <td>lung</td>\n",
       "      <td>HCC-1833</td>\n",
       "      <td>carcinoma (adenocarcinoma)</td>\n",
       "      <td>True</td>\n",
       "      <td>True</td>\n",
       "      <td>False</td>\n",
       "      <td>False</td>\n",
       "      <td>False</td>\n",
       "      <td>False</td>\n",
       "      <td>False</td>\n",
       "      <td>SRR8616178</td>\n",
       "      <td>SRR8639163</td>\n",
       "      <td>none</td>\n",
       "    </tr>\n",
       "    <tr>\n",
       "      <th>...</th>\n",
       "      <td>...</td>\n",
       "      <td>...</td>\n",
       "      <td>...</td>\n",
       "      <td>...</td>\n",
       "      <td>...</td>\n",
       "      <td>...</td>\n",
       "      <td>...</td>\n",
       "      <td>...</td>\n",
       "      <td>...</td>\n",
       "      <td>...</td>\n",
       "      <td>...</td>\n",
       "      <td>...</td>\n",
       "      <td>...</td>\n",
       "      <td>...</td>\n",
       "      <td>...</td>\n",
       "      <td>...</td>\n",
       "      <td>...</td>\n",
       "    </tr>\n",
       "    <tr>\n",
       "      <th>1053</th>\n",
       "      <td>1053</td>\n",
       "      <td>SAMN10987782</td>\n",
       "      <td>NCIH520_LUNG,lung,NCI-H520,carcinoma (squamous...</td>\n",
       "      <td>NCIH520_LUNG</td>\n",
       "      <td>lung</td>\n",
       "      <td>NCI-H520</td>\n",
       "      <td>carcinoma (squamous_cell_carcinoma)</td>\n",
       "      <td>True</td>\n",
       "      <td>True</td>\n",
       "      <td>False</td>\n",
       "      <td>False</td>\n",
       "      <td>False</td>\n",
       "      <td>True</td>\n",
       "      <td>False</td>\n",
       "      <td>SRR8615799</td>\n",
       "      <td>SRR8670692</td>\n",
       "      <td>none</td>\n",
       "    </tr>\n",
       "    <tr>\n",
       "      <th>1057</th>\n",
       "      <td>1057</td>\n",
       "      <td>SAMN10988018</td>\n",
       "      <td>SUIT2_PANCREAS,pancreas,SUIT-2,carcinoma (duct...</td>\n",
       "      <td>SUIT2_PANCREAS</td>\n",
       "      <td>pancreas</td>\n",
       "      <td>SUIT-2</td>\n",
       "      <td>carcinoma (ductal_carcinoma)</td>\n",
       "      <td>True</td>\n",
       "      <td>True</td>\n",
       "      <td>False</td>\n",
       "      <td>False</td>\n",
       "      <td>False</td>\n",
       "      <td>True</td>\n",
       "      <td>False</td>\n",
       "      <td>SRR8616011</td>\n",
       "      <td>SRR8670709</td>\n",
       "      <td>none</td>\n",
       "    </tr>\n",
       "    <tr>\n",
       "      <th>1061</th>\n",
       "      <td>1061</td>\n",
       "      <td>SAMN10988557</td>\n",
       "      <td>KU1919_URINARY_TRACT,urinary_tract,KU-19-19,ca...</td>\n",
       "      <td>KU1919_URINARY_TRACT</td>\n",
       "      <td>urinary_tract</td>\n",
       "      <td>KU-19-19</td>\n",
       "      <td>carcinoma (transitional_cell_carcinoma)</td>\n",
       "      <td>True</td>\n",
       "      <td>True</td>\n",
       "      <td>False</td>\n",
       "      <td>False</td>\n",
       "      <td>False</td>\n",
       "      <td>True</td>\n",
       "      <td>False</td>\n",
       "      <td>SRR8616074</td>\n",
       "      <td>SRR8652072</td>\n",
       "      <td>none</td>\n",
       "    </tr>\n",
       "    <tr>\n",
       "      <th>1062</th>\n",
       "      <td>1062</td>\n",
       "      <td>SAMN10987978</td>\n",
       "      <td>CHAGOK1_LUNG,lung,ChaGo-K-1,carcinoma</td>\n",
       "      <td>CHAGOK1_LUNG</td>\n",
       "      <td>lung</td>\n",
       "      <td>ChaGo-K-1</td>\n",
       "      <td>carcinoma</td>\n",
       "      <td>True</td>\n",
       "      <td>True</td>\n",
       "      <td>False</td>\n",
       "      <td>False</td>\n",
       "      <td>False</td>\n",
       "      <td>True</td>\n",
       "      <td>False</td>\n",
       "      <td>SRR8616079</td>\n",
       "      <td>SRR8639198</td>\n",
       "      <td>none</td>\n",
       "    </tr>\n",
       "    <tr>\n",
       "      <th>1063</th>\n",
       "      <td>1063</td>\n",
       "      <td>SAMN10988312</td>\n",
       "      <td>SCABER_URINARY_TRACT,urinary_tract,SCaBER,carc...</td>\n",
       "      <td>SCABER_URINARY_TRACT</td>\n",
       "      <td>urinary_tract</td>\n",
       "      <td>SCaBER</td>\n",
       "      <td>carcinoma (transitional_cell_carcinoma)</td>\n",
       "      <td>True</td>\n",
       "      <td>True</td>\n",
       "      <td>False</td>\n",
       "      <td>False</td>\n",
       "      <td>False</td>\n",
       "      <td>True</td>\n",
       "      <td>False</td>\n",
       "      <td>SRR8616099</td>\n",
       "      <td>SRR8670749</td>\n",
       "      <td>none</td>\n",
       "    </tr>\n",
       "  </tbody>\n",
       "</table>\n",
       "<p>316 rows × 17 columns</p>\n",
       "</div>"
      ],
      "text/plain": [
       "      Unnamed: 0     Sample_ID  \\\n",
       "22            22  SAMN10988232   \n",
       "33            33  SAMN10987646   \n",
       "111          111  SAMN10987999   \n",
       "146          146  SAMN10988516   \n",
       "154          154  SAMN10988044   \n",
       "...          ...           ...   \n",
       "1053        1053  SAMN10987782   \n",
       "1057        1057  SAMN10988018   \n",
       "1061        1061  SAMN10988557   \n",
       "1062        1062  SAMN10987978   \n",
       "1063        1063  SAMN10988312   \n",
       "\n",
       "                                                    tmp  \\\n",
       "22    LK2_LUNG,lung,LK-2,carcinoma (squamous_cell_ca...   \n",
       "33    SW480_LARGE_INTESTINE,large_intestine,SW480,ca...   \n",
       "111   NCIH1105_LUNG,lung,NCI-H1105,carcinoma (small_...   \n",
       "146   SCLC21H_LUNG,lung,SCLC-21H,carcinoma (small_ce...   \n",
       "154   HCC1833_LUNG,lung,HCC-1833,carcinoma (adenocar...   \n",
       "...                                                 ...   \n",
       "1053  NCIH520_LUNG,lung,NCI-H520,carcinoma (squamous...   \n",
       "1057  SUIT2_PANCREAS,pancreas,SUIT-2,carcinoma (duct...   \n",
       "1061  KU1919_URINARY_TRACT,urinary_tract,KU-19-19,ca...   \n",
       "1062              CHAGOK1_LUNG,lung,ChaGo-K-1,carcinoma   \n",
       "1063  SCABER_URINARY_TRACT,urinary_tract,SCaBER,carc...   \n",
       "\n",
       "                Sample_Name           tissue  cell_line  \\\n",
       "22                 LK2_LUNG             lung       LK-2   \n",
       "33    SW480_LARGE_INTESTINE  large_intestine      SW480   \n",
       "111           NCIH1105_LUNG             lung  NCI-H1105   \n",
       "146            SCLC21H_LUNG             lung   SCLC-21H   \n",
       "154            HCC1833_LUNG             lung   HCC-1833   \n",
       "...                     ...              ...        ...   \n",
       "1053           NCIH520_LUNG             lung   NCI-H520   \n",
       "1057         SUIT2_PANCREAS         pancreas     SUIT-2   \n",
       "1061   KU1919_URINARY_TRACT    urinary_tract   KU-19-19   \n",
       "1062           CHAGOK1_LUNG             lung  ChaGo-K-1   \n",
       "1063   SCABER_URINARY_TRACT    urinary_tract     SCaBER   \n",
       "\n",
       "                                      disease  RNA-Seq   WGS    WXS  \\\n",
       "22        carcinoma (squamous_cell_carcinoma)     True  True  False   \n",
       "33                 carcinoma (adenocarcinoma)     True  True  False   \n",
       "111          carcinoma (small_cell_carcinoma)     True  True  False   \n",
       "146          carcinoma (small_cell_carcinoma)     True  True  False   \n",
       "154                carcinoma (adenocarcinoma)     True  True  False   \n",
       "...                                       ...      ...   ...    ...   \n",
       "1053      carcinoma (squamous_cell_carcinoma)     True  True  False   \n",
       "1057             carcinoma (ductal_carcinoma)     True  True  False   \n",
       "1061  carcinoma (transitional_cell_carcinoma)     True  True  False   \n",
       "1062                                carcinoma     True  True  False   \n",
       "1063  carcinoma (transitional_cell_carcinoma)     True  True  False   \n",
       "\n",
       "      RnaSeq+WGS+WXS  RnaSeq_only  DNA_AffyMtrx  RnaSeq+W*S+DNAffy  \\\n",
       "22             False        False          True              False   \n",
       "33             False        False          True              False   \n",
       "111            False        False          True              False   \n",
       "146            False        False          True              False   \n",
       "154            False        False         False              False   \n",
       "...              ...          ...           ...                ...   \n",
       "1053           False        False          True              False   \n",
       "1057           False        False          True              False   \n",
       "1061           False        False          True              False   \n",
       "1062           False        False          True              False   \n",
       "1063           False        False          True              False   \n",
       "\n",
       "     SRR_RNA-Seq     SRR_WGS SRR_WXS  \n",
       "22    SRR8615840  SRR8652089    none  \n",
       "33    SRR8616059  SRR8670707    none  \n",
       "111   SRR8615329  SRR8652138    none  \n",
       "146   SRR8616096  SRR8670746    none  \n",
       "154   SRR8616178  SRR8639163    none  \n",
       "...          ...         ...     ...  \n",
       "1053  SRR8615799  SRR8670692    none  \n",
       "1057  SRR8616011  SRR8670709    none  \n",
       "1061  SRR8616074  SRR8652072    none  \n",
       "1062  SRR8616079  SRR8639198    none  \n",
       "1063  SRR8616099  SRR8670749    none  \n",
       "\n",
       "[316 rows x 17 columns]"
      ]
     },
     "execution_count": 53,
     "metadata": {},
     "output_type": "execute_result"
    }
   ],
   "source": [
    "df_allWGS2Download"
   ]
  },
  {
   "cell_type": "code",
   "execution_count": 52,
   "id": "113d4dbd-ada5-4f69-9905-c0ef8b44a4a2",
   "metadata": {},
   "outputs": [],
   "source": [
    "filename = \"short_WGS.txt\"\n",
    "tmp=[\"\",\"\"]\n",
    "with open(filename, \"w\") as f:\n",
    "    for idx,item in df_allWGS2Download.iterrows():\n",
    "        tmp=item[\"Sample_Name\"].split(\"_\")\n",
    "        #f.write(\"https://sra-pub-run-odp.s3.amazonaws.com/sra/\"+item[\"SRR_WXS\"]+\"/\"+item[\"SRR_WXS\"]+\"\\t\"+tmp[0]+\"_\"+tmp[1].lower())\n",
    "        f.write(item[\"SRR_WGS\"]+\"\\t\"+tmp[0]+\"_\"+tmp[1].lower())\n",
    "        f.write(\"\\n\")"
   ]
  }
 ],
 "metadata": {
  "colab": {
   "provenance": []
  },
  "kernelspec": {
   "display_name": "Python 3 (ipykernel)",
   "language": "python",
   "name": "python3"
  },
  "language_info": {
   "codemirror_mode": {
    "name": "ipython",
    "version": 3
   },
   "file_extension": ".py",
   "mimetype": "text/x-python",
   "name": "python",
   "nbconvert_exporter": "python",
   "pygments_lexer": "ipython3",
   "version": "3.13.0"
  }
 },
 "nbformat": 4,
 "nbformat_minor": 5
}
